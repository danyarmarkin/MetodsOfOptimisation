{
 "cells": [
  {
   "cell_type": "code",
   "id": "initial_id",
   "metadata": {
    "collapsed": true,
    "ExecuteTime": {
     "end_time": "2025-06-05T12:59:05.563098Z",
     "start_time": "2025-06-05T12:59:04.936414Z"
    }
   },
   "source": [
    "import numpy as np\n",
    "from scipy.optimize import line_search\n",
    "\n",
    "\n",
    "def newton_method_with_line_search(f, grad_f, hess_f, x0, max_iter=1000, tol=1e-6,\n",
    "                                   c1=1e-4, c2=0.9, max_line_search=20):\n",
    "    x = x0.copy()\n",
    "    trajectory = [x.copy()]\n",
    "    f_values = [f(x)]\n",
    "\n",
    "    for i in range(max_iter):\n",
    "        gradient = grad_f(x)\n",
    "        hessian = hess_f(x)\n",
    "\n",
    "        if np.linalg.norm(gradient) < tol:\n",
    "            break\n",
    "\n",
    "        try:\n",
    "            direction = -np.linalg.solve(hessian, gradient)\n",
    "        except np.linalg.LinAlgError:\n",
    "            direction = -gradient\n",
    "\n",
    "        alpha, _, _, _, _, _ = line_search(f, grad_f, x, direction,\n",
    "                                           gfk=gradient,\n",
    "                                           old_fval=f(x),\n",
    "                                           c1=c1, c2=c2,\n",
    "                                           maxiter=max_line_search)\n",
    "\n",
    "        if alpha is None:\n",
    "            alpha = 1.0\n",
    "\n",
    "        x = x + alpha * direction\n",
    "        trajectory.append(x.copy())\n",
    "        f_values.append(f(x))\n",
    "\n",
    "    return x, np.array(trajectory), np.array(f_values)"
   ],
   "outputs": [],
   "execution_count": 1
  },
  {
   "metadata": {
    "ExecuteTime": {
     "end_time": "2025-06-05T12:59:05.573021Z",
     "start_time": "2025-06-05T12:59:05.567646Z"
    }
   },
   "cell_type": "code",
   "source": [
    "from scipy.optimize import minimize\n",
    "\n",
    "\n",
    "def optimize_with_scipy(f, grad_f, hess_f, x0, method='Newton-CG', max_iter=1000, tol=1e-6):\n",
    "    trajectory = [x0.copy()]\n",
    "    f_values = [f(x0)]\n",
    "\n",
    "    def callback(xk):\n",
    "        trajectory.append(xk.copy())\n",
    "        f_values.append(f(xk))\n",
    "\n",
    "    options = {'maxiter': max_iter, 'disp': False}\n",
    "\n",
    "    if method == 'Newton-CG':\n",
    "        res = minimize(f, x0, method='Newton-CG', jac=grad_f, hess=hess_f,\n",
    "                       options=options, tol=tol, callback=callback)\n",
    "    elif method == 'BFGS':\n",
    "        res = minimize(f, x0, method='BFGS', jac=grad_f,\n",
    "                       options=options, tol=tol, callback=callback)\n",
    "    elif method == 'L-BFGS-B':\n",
    "        res = minimize(f, x0, method='L-BFGS-B', jac=grad_f,\n",
    "                       options=options, tol=tol, callback=callback)\n",
    "    else:\n",
    "        raise ValueError(f\"Unknown method: {method}\")\n",
    "\n",
    "    return res.x, np.array(trajectory), np.array(f_values)"
   ],
   "id": "11ce1c05a9da0fec",
   "outputs": [],
   "execution_count": 2
  },
  {
   "metadata": {
    "ExecuteTime": {
     "end_time": "2025-06-05T12:59:06.019557Z",
     "start_time": "2025-06-05T12:59:05.668707Z"
    }
   },
   "cell_type": "code",
   "source": [
    "import matplotlib.pyplot as plt\n",
    "from matplotlib import cm\n",
    "\n",
    "\n",
    "def plot_optimization_paths(f, results, x_limits, y_limits, levels=20):\n",
    "    plt.figure(figsize=(10, 8))\n",
    "\n",
    "    # Создаем сетку для линий уровня\n",
    "    x = np.linspace(x_limits[0], x_limits[1], 100)\n",
    "    y = np.linspace(y_limits[0], y_limits[1], 100)\n",
    "    X, Y = np.meshgrid(x, y)\n",
    "    Z = np.zeros_like(X)\n",
    "\n",
    "    for i in range(X.shape[0]):\n",
    "        for j in range(X.shape[1]):\n",
    "            Z[i, j] = f(np.array([X[i, j], Y[i, j]]))\n",
    "\n",
    "    # Рисуем линии уровня\n",
    "    cs = plt.contour(X, Y, Z, levels=levels, cmap='viridis', alpha=0.5)\n",
    "    plt.clabel(cs, inline=True, fontsize=8)\n",
    "\n",
    "    for i, (method, result) in enumerate(results.items()):\n",
    "        path = result[1]\n",
    "        plt.plot(path[:, 0], path[:, 1],\n",
    "                 label=f\"{method} (start: [{result[1][0, 0]:.1f}, {result[1][0, 1]:.1f}])\")\n",
    "\n",
    "    plt.xlabel('x1')\n",
    "    plt.ylabel('x2')\n",
    "    plt.title('Траектории оптимизации с линиями уровня')\n",
    "    plt.legend()\n",
    "    plt.grid(True)\n",
    "    plt.show()"
   ],
   "id": "93309e807bcfad1d",
   "outputs": [],
   "execution_count": 3
  },
  {
   "metadata": {
    "ExecuteTime": {
     "end_time": "2025-06-05T12:59:06.353746Z",
     "start_time": "2025-06-05T12:59:06.029043Z"
    }
   },
   "cell_type": "code",
   "source": [
    "def f(x):\n",
    "    return x[0] ** 4 - 4 * x[0] ** 2 + x[1] ** 2 + 3 * x[0] - 4 * x[1]\n",
    "\n",
    "\n",
    "def f_grad(x):\n",
    "    return np.array([4 * x[0] ** 3 - 8 * x[0] + 3, 2 * x[1] - 4])\n",
    "\n",
    "\n",
    "def f_hess(x):\n",
    "    return np.array([[12 * x[0] ** 2 - 8, 0], [0, 2]])\n",
    "\n",
    "\n",
    "x0 = np.array([-3.0, -4.0])\n",
    "\n",
    "methods = {\n",
    "    'Newton with line search': newton_method_with_line_search(f, f_grad, f_hess, x0),\n",
    "    'Newton-CG': optimize_with_scipy(f, f_grad, f_hess, x0, method='Newton-CG'),\n",
    "    'BFGS': optimize_with_scipy(f, f_grad, f_hess, x0, method='BFGS')\n",
    "}\n",
    "\n",
    "plot_optimization_paths(f, methods, x_limits=(-5, 5), y_limits=(-5, 7))"
   ],
   "id": "3b6710d33e8be173",
   "outputs": [
    {
     "data": {
      "text/plain": [
       "<Figure size 1000x800 with 1 Axes>"
      ],
      "image/png": "[encoded data removed]"
     },
     "metadata": {},
     "output_type": "display_data"
    }
   ],
   "execution_count": 4
  },
  {
   "metadata": {
    "ExecuteTime": {
     "end_time": "2025-06-05T12:59:06.373554Z",
     "start_time": "2025-06-05T12:59:06.366604Z"
    }
   },
   "cell_type": "code",
   "source": [
    "def bfgs_method(f, grad_f, hess_f, x0, max_iter=1000, tol=1e-6, c1=1e-4, c2=0.9,\n",
    "                max_line_search=20, epsilon=1e-8):\n",
    "    x = x0.copy()\n",
    "    n = len(x)\n",
    "    trajectory = [x.copy()]\n",
    "    f_values = [f(x)]\n",
    "\n",
    "    H_k = np.eye(n)\n",
    "    grad_k = grad_f(x)\n",
    "\n",
    "    for k in range(max_iter):\n",
    "        if np.linalg.norm(grad_k) < tol:\n",
    "            break\n",
    "        p_k = -H_k @ grad_k\n",
    "        alpha_k, _, _, _, _, _ = line_search(f, grad_f, x, p_k,\n",
    "                                             gfk=grad_k,\n",
    "                                             old_fval=f(x),\n",
    "                                             c1=c1, c2=c2,\n",
    "                                             maxiter=max_line_search)\n",
    "        if alpha_k is None:\n",
    "            alpha_k = 1.0\n",
    "\n",
    "        x_new = x + alpha_k * p_k\n",
    "        grad_new = grad_f(x_new)\n",
    "        s_k = x_new - x\n",
    "        y_k = grad_new - grad_k\n",
    "\n",
    "        rho_k = 1.0 / (y_k.T @ s_k)\n",
    "\n",
    "        term1 = np.eye(n) - rho_k * np.outer(s_k, y_k)\n",
    "        term2 = np.eye(n) - rho_k * np.outer(y_k, s_k)\n",
    "        term3 = rho_k * np.outer(s_k, s_k)\n",
    "\n",
    "        H_k = term1 @ H_k @ term2 + term3\n",
    "\n",
    "        x = x_new\n",
    "        grad_k = grad_new\n",
    "        trajectory.append(x.copy())\n",
    "        f_values.append(f(x))\n",
    "\n",
    "    return x, np.array(trajectory), np.array(f_values)"
   ],
   "id": "2b12d643ac4265a8",
   "outputs": [],
   "execution_count": 5
  },
  {
   "metadata": {
    "ExecuteTime": {
     "end_time": "2025-06-05T12:59:06.418229Z",
     "start_time": "2025-06-05T12:59:06.382482Z"
    }
   },
   "cell_type": "code",
   "source": [
    "import time\n",
    "from collections import defaultdict\n",
    "\n",
    "\n",
    "def compare_methods(f, grad_f, hess_f, x0, methods):\n",
    "    results = {}\n",
    "    stats = defaultdict(dict)\n",
    "\n",
    "    for name, method in methods.items():\n",
    "        start_time = time.time()\n",
    "        results[name] = method(f, grad_f, hess_f, x0)\n",
    "        elapsed_time = time.time() - start_time\n",
    "\n",
    "        stats[name]['time'] = elapsed_time\n",
    "        stats[name]['iterations'] = len(results[name][2]) - 1\n",
    "        stats[name]['final_value'] = f(results[name][0])\n",
    "\n",
    "    return results, stats\n",
    "\n",
    "\n",
    "def rosenbrock(x):\n",
    "    return 100 * (x[1] - x[0] ** 2) ** 2 + (1 - x[0]) ** 2\n",
    "\n",
    "\n",
    "def rosenbrock_grad(x):\n",
    "    return np.array([-400 * x[0] * (x[1] - x[0] ** 2) - 2 * (1 - x[0]),\n",
    "                     200 * (x[1] - x[0] ** 2)])\n",
    "\n",
    "\n",
    "def rosenbrock_hess(x):\n",
    "    return np.array([[1200 * x[0] ** 2 - 400 * x[1] + 2, -400 * x[0]],\n",
    "                     [-400 * x[0], 200]])\n",
    "\n",
    "\n",
    "methods = {\n",
    "    'Newton': newton_method_with_line_search,\n",
    "    'BFGS': bfgs_method,\n",
    "    'Newton-CG': lambda f, g, h, x0: optimize_with_scipy(f, g, h, x0, 'Newton-CG'),\n",
    "    'L-BFGS-B': lambda f, g, h, x0: optimize_with_scipy(f, g, h, x0, 'L-BFGS-B')\n",
    "}\n",
    "\n",
    "x0 = np.array([-1.5, 2.0])\n",
    "\n",
    "results, stats = compare_methods(rosenbrock, rosenbrock_grad, rosenbrock_hess, x0, methods)\n",
    "\n",
    "print(\"{:<15} {:<15} {:<15} {:<15}\".format(\"Method\", \"Time (s)\", \"Iterations\", \"Final value\"))\n",
    "for name in methods:\n",
    "    print(\"{:<15} {:<15.4f} {:<15} {:<15.6f}\".format(\n",
    "        name, stats[name]['time'], stats[name]['iterations'], stats[name]['final_value']))"
   ],
   "id": "eabf106e220bf844",
   "outputs": [
    {
     "name": "stdout",
     "output_type": "stream",
     "text": [
      "Method          Time (s)        Iterations      Final value    \n",
      "Newton          0.0014          23              0.000000       \n",
      "BFGS            0.0029          37              0.000000       \n",
      "Newton-CG       0.0203          191             0.000000       \n",
      "L-BFGS-B        0.0034          42              0.000000       \n"
     ]
    }
   ],
   "execution_count": 6
  },
  {
   "metadata": {
    "ExecuteTime": {
     "end_time": "2025-06-05T12:59:07.070185Z",
     "start_time": "2025-06-05T12:59:06.429026Z"
    }
   },
   "cell_type": "code",
   "source": [
    "import optuna\n",
    "\n",
    "def objective_f(trial):\n",
    "    max_iter = trial.suggest_int('max_iter', 50, 500)\n",
    "    tol = trial.suggest_loguniform('tol', 1e-8, 1e-4)\n",
    "    c1 = trial.suggest_loguniform('c1', 1e-6, 1e-2)\n",
    "    c2 = trial.suggest_loguniform('c2', 0.1, 0.999)\n",
    "\n",
    "    x0 = np.array([10.0, 10.0])\n",
    "\n",
    "    result = newton_method_with_line_search(f, f_grad, f_hess,\n",
    "                                            x0=x0, max_iter=max_iter, tol=tol,\n",
    "                                            c1=c1, c2=c2)\n",
    "\n",
    "    return f(result[0])\n",
    "\n",
    "study_quadratic = optuna.create_study(direction='minimize')\n",
    "study_quadratic.optimize(objective_f, n_trials=50)\n",
    "\n",
    "print(\"Лучшие параметры для квадратичной функции:\")\n",
    "print(study_quadratic.best_params)"
   ],
   "id": "a056ba2e65cba2f9",
   "outputs": [
    {
     "name": "stderr",
     "output_type": "stream",
     "text": [
      "/Users/danyarmarkin/ITMO/MetodsOfOptimisation/.venv/lib/python3.9/site-packages/tqdm/auto.py:21: TqdmWarning: IProgress not found. Please update jupyter and ipywidgets. See https://ipywidgets.readthedocs.io/en/stable/user_install.html\n",
      "  from .autonotebook import tqdm as notebook_tqdm\n",
      "[I 2025-06-05 15:59:06,479] A new study created in memory with name: no-name-66607382-1e77-4500-bec0-f36f7c81c262\n",
      "/var/folders/f2/pvrqnw9x161cmlnd2jk6v4x40000gn/T/ipykernel_25330/1445367919.py:5: FutureWarning: suggest_loguniform has been deprecated in v3.0.0. This feature will be removed in v6.0.0. See https://github.com/optuna/optuna/releases/tag/v3.0.0. Use suggest_float(..., log=True) instead.\n",
      "  tol = trial.suggest_loguniform('tol', 1e-8, 1e-4)\n",
      "/var/folders/f2/pvrqnw9x161cmlnd2jk6v4x40000gn/T/ipykernel_25330/1445367919.py:6: FutureWarning: suggest_loguniform has been deprecated in v3.0.0. This feature will be removed in v6.0.0. See https://github.com/optuna/optuna/releases/tag/v3.0.0. Use suggest_float(..., log=True) instead.\n",
      "  c1 = trial.suggest_loguniform('c1', 1e-6, 1e-2)\n",
      "/var/folders/f2/pvrqnw9x161cmlnd2jk6v4x40000gn/T/ipykernel_25330/1445367919.py:7: FutureWarning: suggest_loguniform has been deprecated in v3.0.0. This feature will be removed in v6.0.0. See https://github.com/optuna/optuna/releases/tag/v3.0.0. Use suggest_float(..., log=True) instead.\n",
      "  c2 = trial.suggest_loguniform('c2', 0.1, 0.999)\n",
      "[I 2025-06-05 15:59:06,481] Trial 0 finished with value: -4.091841615261904 and parameters: {'max_iter': 337, 'tol': 3.3786862503145984e-06, 'c1': 3.588982654821861e-06, 'c2': 0.3140630738927041}. Best is trial 0 with value: -4.091841615261904.\n",
      "[I 2025-06-05 15:59:06,483] Trial 1 finished with value: -4.091841615261904 and parameters: {'max_iter': 344, 'tol': 7.584487446622476e-08, 'c1': 0.0001602552446151408, 'c2': 0.9337181446162124}. Best is trial 0 with value: -4.091841615261904.\n",
      "[I 2025-06-05 15:59:06,484] Trial 2 finished with value: -4.091841615261903 and parameters: {'max_iter': 324, 'tol': 3.192767193924603e-07, 'c1': 7.649668971133316e-06, 'c2': 0.1391278052352585}. Best is trial 0 with value: -4.091841615261904.\n",
      "[I 2025-06-05 15:59:06,486] Trial 3 finished with value: -4.091841615261904 and parameters: {'max_iter': 461, 'tol': 1.5020137983388111e-05, 'c1': 0.0003007066791550342, 'c2': 0.7625684733865777}. Best is trial 0 with value: -4.091841615261904.\n",
      "[I 2025-06-05 15:59:06,488] Trial 4 finished with value: -4.091841615261903 and parameters: {'max_iter': 322, 'tol': 1.1109035260893136e-05, 'c1': 0.0004044318113810049, 'c2': 0.14764331251693824}. Best is trial 0 with value: -4.091841615261904.\n",
      "[I 2025-06-05 15:59:06,489] Trial 5 finished with value: -4.091841615261904 and parameters: {'max_iter': 378, 'tol': 2.2050796605318885e-08, 'c1': 1.923649709186366e-05, 'c2': 0.2787873672462198}. Best is trial 0 with value: -4.091841615261904.\n",
      "[I 2025-06-05 15:59:06,491] Trial 6 finished with value: -4.091841615261904 and parameters: {'max_iter': 462, 'tol': 1.7915720447857753e-06, 'c1': 0.00015658914291472522, 'c2': 0.3586483012522431}. Best is trial 0 with value: -4.091841615261904.\n",
      "[I 2025-06-05 15:59:06,492] Trial 7 finished with value: -4.091841615261904 and parameters: {'max_iter': 68, 'tol': 3.982456748752715e-06, 'c1': 0.007692737446043627, 'c2': 0.25024499145451806}. Best is trial 0 with value: -4.091841615261904.\n",
      "[I 2025-06-05 15:59:06,493] Trial 8 finished with value: -4.09184161518937 and parameters: {'max_iter': 53, 'tol': 7.955918814876062e-05, 'c1': 7.0968863113317495e-06, 'c2': 0.7320482199867311}. Best is trial 0 with value: -4.091841615261904.\n",
      "[I 2025-06-05 15:59:06,494] Trial 9 finished with value: -4.091841615261904 and parameters: {'max_iter': 143, 'tol': 2.1248924209873174e-08, 'c1': 1.959634828294996e-05, 'c2': 0.22451341361463628}. Best is trial 0 with value: -4.091841615261904.\n",
      "[I 2025-06-05 15:59:06,507] Trial 10 finished with value: -4.091841615261904 and parameters: {'max_iter': 224, 'tol': 5.106544017175873e-07, 'c1': 1.2282383026666784e-06, 'c2': 0.45722133379677676}. Best is trial 0 with value: -4.091841615261904.\n",
      "[I 2025-06-05 15:59:06,519] Trial 11 finished with value: -4.091841615261904 and parameters: {'max_iter': 241, 'tol': 1.751362804723313e-07, 'c1': 0.0011759722084112784, 'c2': 0.570120258772159}. Best is trial 0 with value: -4.091841615261904.\n",
      "[I 2025-06-05 15:59:06,532] Trial 12 finished with value: -4.091841615261904 and parameters: {'max_iter': 387, 'tol': 9.874794503360258e-08, 'c1': 5.0001741569403104e-05, 'c2': 0.9808838641939704}. Best is trial 0 with value: -4.091841615261904.\n",
      "[I 2025-06-05 15:59:06,545] Trial 13 finished with value: -4.091841615261904 and parameters: {'max_iter': 385, 'tol': 6.189429747961101e-08, 'c1': 1.292206399704592e-06, 'c2': 0.40449488859694266}. Best is trial 0 with value: -4.091841615261904.\n",
      "[I 2025-06-05 15:59:06,557] Trial 14 finished with value: -4.091841615261904 and parameters: {'max_iter': 280, 'tol': 1.322760012779231e-06, 'c1': 6.299815919613535e-05, 'c2': 0.19454296566962723}. Best is trial 0 with value: -4.091841615261904.\n",
      "[I 2025-06-05 15:59:06,569] Trial 15 finished with value: -4.091841615261904 and parameters: {'max_iter': 187, 'tol': 5.981284407583001e-06, 'c1': 0.001772883087174815, 'c2': 0.5679540725841875}. Best is trial 0 with value: -4.091841615261904.\n",
      "[I 2025-06-05 15:59:06,582] Trial 16 finished with value: -4.09184161518937 and parameters: {'max_iter': 318, 'tol': 4.853333203921292e-05, 'c1': 3.925508243221822e-06, 'c2': 0.3245251059796761}. Best is trial 0 with value: -4.091841615261904.\n",
      "[I 2025-06-05 15:59:06,595] Trial 17 finished with value: -4.091841615261904 and parameters: {'max_iter': 416, 'tol': 7.900295240237955e-07, 'c1': 2.762630584662505e-05, 'c2': 0.17842727448257117}. Best is trial 0 with value: -4.091841615261904.\n",
      "[I 2025-06-05 15:59:06,608] Trial 18 finished with value: -4.091841615261904 and parameters: {'max_iter': 278, 'tol': 1.3099581432553113e-08, 'c1': 0.00014974141165887805, 'c2': 0.4946702445785493}. Best is trial 0 with value: -4.091841615261904.\n",
      "[I 2025-06-05 15:59:06,621] Trial 19 finished with value: -4.091841615261903 and parameters: {'max_iter': 347, 'tol': 2.718384142816633e-06, 'c1': 0.0007056570504675396, 'c2': 0.10724326083090692}. Best is trial 0 with value: -4.091841615261904.\n",
      "[I 2025-06-05 15:59:06,634] Trial 20 finished with value: -4.091841615261904 and parameters: {'max_iter': 443, 'tol': 8.504653304809957e-08, 'c1': 0.007362286248635951, 'c2': 0.9409861522566814}. Best is trial 0 with value: -4.091841615261904.\n",
      "[I 2025-06-05 15:59:06,647] Trial 21 finished with value: -4.091841615261904 and parameters: {'max_iter': 499, 'tol': 1.1448549780750855e-05, 'c1': 0.00026994619766812305, 'c2': 0.71494250789418}. Best is trial 0 with value: -4.091841615261904.\n",
      "[I 2025-06-05 15:59:06,660] Trial 22 finished with value: -4.091841615261904 and parameters: {'max_iter': 468, 'tol': 3.1397076953356235e-05, 'c1': 9.283610284246355e-05, 'c2': 0.7223227639442175}. Best is trial 0 with value: -4.091841615261904.\n",
      "[I 2025-06-05 15:59:06,677] Trial 23 finished with value: -4.091841615261904 and parameters: {'max_iter': 420, 'tol': 1.1115597721844585e-05, 'c1': 0.0019342929750133582, 'c2': 0.8602142707531304}. Best is trial 0 with value: -4.091841615261904.\n",
      "[I 2025-06-05 15:59:06,691] Trial 24 finished with value: -4.091841615261904 and parameters: {'max_iter': 367, 'tol': 1.9902275180259032e-05, 'c1': 0.0003752105249592537, 'c2': 0.5867207596318486}. Best is trial 0 with value: -4.091841615261904.\n",
      "[I 2025-06-05 15:59:06,706] Trial 25 finished with value: -4.091841615261904 and parameters: {'max_iter': 496, 'tol': 5.031424100422641e-06, 'c1': 3.67500720743091e-05, 'c2': 0.798298239937235}. Best is trial 0 with value: -4.091841615261904.\n",
      "[I 2025-06-05 15:59:06,720] Trial 26 finished with value: -4.091841615261904 and parameters: {'max_iter': 295, 'tol': 7.041608131959933e-07, 'c1': 0.00022365463450697826, 'c2': 0.3919719332020057}. Best is trial 0 with value: -4.091841615261904.\n",
      "[I 2025-06-05 15:59:06,734] Trial 27 finished with value: -4.091841615261904 and parameters: {'max_iter': 221, 'tol': 2.7432211628530985e-07, 'c1': 0.0006326938204751078, 'c2': 0.291815516075975}. Best is trial 0 with value: -4.091841615261904.\n",
      "[I 2025-06-05 15:59:06,750] Trial 28 finished with value: -4.091841615261904 and parameters: {'max_iter': 415, 'tol': 2.1538761395710897e-06, 'c1': 0.003347327100254777, 'c2': 0.6223827291565202}. Best is trial 0 with value: -4.091841615261904.\n",
      "[I 2025-06-05 15:59:06,765] Trial 29 finished with value: -4.091841615261904 and parameters: {'max_iter': 343, 'tol': 1.9660943024488462e-05, 'c1': 3.3588460946518842e-06, 'c2': 0.4609710442687467}. Best is trial 0 with value: -4.091841615261904.\n",
      "[I 2025-06-05 15:59:06,780] Trial 30 finished with value: -4.091841615261904 and parameters: {'max_iter': 174, 'tol': 2.616081940669681e-07, 'c1': 8.075249275167919e-06, 'c2': 0.6537895090185897}. Best is trial 0 with value: -4.091841615261904.\n",
      "[I 2025-06-05 15:59:06,794] Trial 31 finished with value: -4.091841615261904 and parameters: {'max_iter': 374, 'tol': 4.047688498702253e-08, 'c1': 1.4157723328683959e-05, 'c2': 0.2982114450092179}. Best is trial 0 with value: -4.091841615261904.\n",
      "[I 2025-06-05 15:59:06,808] Trial 32 finished with value: -4.091841615261904 and parameters: {'max_iter': 312, 'tol': 2.24674950416257e-08, 'c1': 8.657179256488965e-05, 'c2': 0.26228607693684713}. Best is trial 0 with value: -4.091841615261904.\n",
      "[I 2025-06-05 15:59:06,823] Trial 33 finished with value: -4.091841615261904 and parameters: {'max_iter': 342, 'tol': 1.0872588641439795e-08, 'c1': 2.823025272773107e-06, 'c2': 0.34539272334043414}. Best is trial 0 with value: -4.091841615261904.\n",
      "[I 2025-06-05 15:59:06,838] Trial 34 finished with value: -4.091841615261904 and parameters: {'max_iter': 463, 'tol': 4.6546031700627675e-08, 'c1': 9.63162692802287e-06, 'c2': 0.20912432287381932}. Best is trial 0 with value: -4.091841615261904.\n",
      "[I 2025-06-05 15:59:06,852] Trial 35 finished with value: -4.091841615261904 and parameters: {'max_iter': 404, 'tol': 1.4121339796690361e-07, 'c1': 0.00017342200480047095, 'c2': 0.2669571636964194}. Best is trial 0 with value: -4.091841615261904.\n",
      "[I 2025-06-05 15:59:06,866] Trial 36 finished with value: -4.091841615261904 and parameters: {'max_iter': 444, 'tol': 2.8595695718462672e-08, 'c1': 2.4511972323360257e-05, 'c2': 0.1579578932420213}. Best is trial 0 with value: -4.091841615261904.\n",
      "[I 2025-06-05 15:59:06,882] Trial 37 finished with value: -4.091841615261904 and parameters: {'max_iter': 367, 'tol': 7.587312402217688e-06, 'c1': 6.073505786918649e-06, 'c2': 0.23433871267497147}. Best is trial 0 with value: -4.091841615261904.\n",
      "[I 2025-06-05 15:59:06,896] Trial 38 finished with value: -4.091841615261904 and parameters: {'max_iter': 260, 'tol': 5.037424758883966e-07, 'c1': 1.4733181261938066e-05, 'c2': 0.39778363841077136}. Best is trial 0 with value: -4.091841615261904.\n",
      "[I 2025-06-05 15:59:06,912] Trial 39 finished with value: -4.091841615261904 and parameters: {'max_iter': 304, 'tol': 3.0684354654305205e-06, 'c1': 0.0005552398449395229, 'c2': 0.8472650993134132}. Best is trial 0 with value: -4.091841615261904.\n",
      "[I 2025-06-05 15:59:06,926] Trial 40 finished with value: -4.09184161518937 and parameters: {'max_iter': 330, 'tol': 8.669801289027937e-05, 'c1': 2.059562714944919e-06, 'c2': 0.5112935921380355}. Best is trial 0 with value: -4.091841615261904.\n",
      "[I 2025-06-05 15:59:06,942] Trial 41 finished with value: -4.091841615261904 and parameters: {'max_iter': 445, 'tol': 1.3430143975094305e-06, 'c1': 0.00012863809607647868, 'c2': 0.3584054500973072}. Best is trial 0 with value: -4.091841615261904.\n",
      "[I 2025-06-05 15:59:06,958] Trial 42 finished with value: -4.091841615261903 and parameters: {'max_iter': 475, 'tol': 1.315774732166516e-06, 'c1': 4.647887448617009e-05, 'c2': 0.13405143082958096}. Best is trial 0 with value: -4.091841615261904.\n",
      "[I 2025-06-05 15:59:06,973] Trial 43 finished with value: -4.091841615261904 and parameters: {'max_iter': 388, 'tol': 1.6521529598259297e-08, 'c1': 0.00032849359309856284, 'c2': 0.9918243285425447}. Best is trial 0 with value: -4.091841615261904.\n",
      "[I 2025-06-05 15:59:06,989] Trial 44 finished with value: -4.091841615261904 and parameters: {'max_iter': 76, 'tol': 1.900271920016943e-06, 'c1': 7.33931401116143e-05, 'c2': 0.23264569407704597}. Best is trial 0 with value: -4.091841615261904.\n",
      "[I 2025-06-05 15:59:07,004] Trial 45 finished with value: -4.091841615261904 and parameters: {'max_iter': 429, 'tol': 4.831277609641231e-06, 'c1': 0.0010666061843307485, 'c2': 0.3103081764289005}. Best is trial 0 with value: -4.091841615261904.\n",
      "[I 2025-06-05 15:59:07,020] Trial 46 finished with value: -4.091841615261904 and parameters: {'max_iter': 403, 'tol': 8.222394394780603e-06, 'c1': 1.0657494040157763e-06, 'c2': 0.2733293255900088}. Best is trial 0 with value: -4.091841615261904.\n",
      "[I 2025-06-05 15:59:07,036] Trial 47 finished with value: -4.091841615261904 and parameters: {'max_iter': 363, 'tol': 4.653114994161466e-07, 'c1': 0.00021725188584030273, 'c2': 0.43307222027345477}. Best is trial 0 with value: -4.091841615261904.\n",
      "[I 2025-06-05 15:59:07,052] Trial 48 finished with value: -4.091841615261904 and parameters: {'max_iter': 479, 'tol': 3.462733673285602e-06, 'c1': 0.0001357346479172809, 'c2': 0.3556207150664523}. Best is trial 0 with value: -4.091841615261904.\n",
      "[I 2025-06-05 15:59:07,067] Trial 49 finished with value: -4.091841615261904 and parameters: {'max_iter': 399, 'tol': 1.6241481542427755e-05, 'c1': 4.0458169983606067e-05, 'c2': 0.17825293651568486}. Best is trial 0 with value: -4.091841615261904.\n"
     ]
    },
    {
     "name": "stdout",
     "output_type": "stream",
     "text": [
      "Лучшие параметры для квадратичной функции:\n",
      "{'max_iter': 337, 'tol': 3.3786862503145984e-06, 'c1': 3.588982654821861e-06, 'c2': 0.3140630738927041}\n"
     ]
    }
   ],
   "execution_count": 7
  },
  {
   "metadata": {
    "ExecuteTime": {
     "end_time": "2025-06-05T12:59:07.960819Z",
     "start_time": "2025-06-05T12:59:07.085884Z"
    }
   },
   "cell_type": "code",
   "source": [
    "def objective_rosenbrock(trial):\n",
    "    max_iter = trial.suggest_int('max_iter', 100, 1000)\n",
    "    tol = trial.suggest_loguniform('tol', 1e-8, 1e-4)\n",
    "    c1 = trial.suggest_loguniform('c1', 1e-6, 1e-2)\n",
    "    c2 = trial.suggest_loguniform('c2', 0.1, 0.999)\n",
    "    epsilon = trial.suggest_loguniform('epsilon', 1e-10, 1e-6)\n",
    "\n",
    "    x0 = np.array([-1.5, 2.0])\n",
    "\n",
    "    result = bfgs_method(rosenbrock, rosenbrock_grad, None,\n",
    "                           x0=x0, max_iter=max_iter, tol=tol,\n",
    "                           c1=c1, c2=c2, epsilon=epsilon)\n",
    "\n",
    "    return rosenbrock(result[0])\n",
    "\n",
    "study_rosenbrock = optuna.create_study(direction='minimize')\n",
    "study_rosenbrock.optimize(objective_rosenbrock, n_trials=50)\n",
    "\n",
    "print(\"\\nЛучшие параметры для функции Розенброка:\")\n",
    "print(study_rosenbrock.best_params)"
   ],
   "id": "3215716cda5477c7",
   "outputs": [
    {
     "name": "stderr",
     "output_type": "stream",
     "text": [
      "[I 2025-06-05 15:59:07,089] A new study created in memory with name: no-name-3d34b5b9-9210-42b1-882c-c7cfaff623dc\n",
      "/var/folders/f2/pvrqnw9x161cmlnd2jk6v4x40000gn/T/ipykernel_25330/4000270020.py:3: FutureWarning: suggest_loguniform has been deprecated in v3.0.0. This feature will be removed in v6.0.0. See https://github.com/optuna/optuna/releases/tag/v3.0.0. Use suggest_float(..., log=True) instead.\n",
      "  tol = trial.suggest_loguniform('tol', 1e-8, 1e-4)\n",
      "/var/folders/f2/pvrqnw9x161cmlnd2jk6v4x40000gn/T/ipykernel_25330/4000270020.py:4: FutureWarning: suggest_loguniform has been deprecated in v3.0.0. This feature will be removed in v6.0.0. See https://github.com/optuna/optuna/releases/tag/v3.0.0. Use suggest_float(..., log=True) instead.\n",
      "  c1 = trial.suggest_loguniform('c1', 1e-6, 1e-2)\n",
      "/var/folders/f2/pvrqnw9x161cmlnd2jk6v4x40000gn/T/ipykernel_25330/4000270020.py:5: FutureWarning: suggest_loguniform has been deprecated in v3.0.0. This feature will be removed in v6.0.0. See https://github.com/optuna/optuna/releases/tag/v3.0.0. Use suggest_float(..., log=True) instead.\n",
      "  c2 = trial.suggest_loguniform('c2', 0.1, 0.999)\n",
      "/var/folders/f2/pvrqnw9x161cmlnd2jk6v4x40000gn/T/ipykernel_25330/4000270020.py:6: FutureWarning: suggest_loguniform has been deprecated in v3.0.0. This feature will be removed in v6.0.0. See https://github.com/optuna/optuna/releases/tag/v3.0.0. Use suggest_float(..., log=True) instead.\n",
      "  epsilon = trial.suggest_loguniform('epsilon', 1e-10, 1e-6)\n",
      "[I 2025-06-05 15:59:07,095] Trial 0 finished with value: 7.056643705513247e-21 and parameters: {'max_iter': 866, 'tol': 9.604003560442475e-06, 'c1': 0.0008678703499973693, 'c2': 0.6483406606929629, 'epsilon': 8.13059213226675e-07}. Best is trial 0 with value: 7.056643705513247e-21.\n",
      "[I 2025-06-05 15:59:07,099] Trial 1 finished with value: 1.2739668901125236e-19 and parameters: {'max_iter': 532, 'tol': 2.1795086790903557e-08, 'c1': 1.6590066076810141e-06, 'c2': 0.2569222118463843, 'epsilon': 7.18144914645411e-08}. Best is trial 0 with value: 7.056643705513247e-21.\n",
      "[I 2025-06-05 15:59:07,103] Trial 2 finished with value: 2.1447645151672722e-23 and parameters: {'max_iter': 585, 'tol': 1.6584124359971365e-08, 'c1': 1.8490771710075366e-06, 'c2': 0.4984743094935654, 'epsilon': 4.9546693742611035e-08}. Best is trial 2 with value: 2.1447645151672722e-23.\n",
      "[I 2025-06-05 15:59:07,106] Trial 3 finished with value: 6.664509739857512e-17 and parameters: {'max_iter': 603, 'tol': 1.5511376823448948e-05, 'c1': 3.316087887403366e-05, 'c2': 0.8446909219427764, 'epsilon': 1.19744147854333e-07}. Best is trial 2 with value: 2.1447645151672722e-23.\n",
      "[I 2025-06-05 15:59:07,109] Trial 4 finished with value: 8.792648310783776e-19 and parameters: {'max_iter': 371, 'tol': 5.169211982521646e-08, 'c1': 5.6042401863154354e-06, 'c2': 0.16994702763558195, 'epsilon': 5.70720178229786e-09}. Best is trial 2 with value: 2.1447645151672722e-23.\n",
      "[I 2025-06-05 15:59:07,113] Trial 5 finished with value: 3.526687385660612e-23 and parameters: {'max_iter': 703, 'tol': 7.326014209472514e-07, 'c1': 6.3862335443043e-05, 'c2': 0.14732126120686706, 'epsilon': 2.6934076009319564e-09}. Best is trial 2 with value: 2.1447645151672722e-23.\n",
      "[I 2025-06-05 15:59:07,115] Trial 6 finished with value: 9.638965818788714e-17 and parameters: {'max_iter': 237, 'tol': 3.1691917219897966e-06, 'c1': 0.0015600999406024428, 'c2': 0.202690462650998, 'epsilon': 2.008422438371592e-07}. Best is trial 2 with value: 2.1447645151672722e-23.\n",
      "[I 2025-06-05 15:59:07,118] Trial 7 finished with value: 1.0214143767856424e-20 and parameters: {'max_iter': 972, 'tol': 5.32283061441617e-07, 'c1': 5.323714706397215e-05, 'c2': 0.11983741228918342, 'epsilon': 2.781970576191618e-10}. Best is trial 2 with value: 2.1447645151672722e-23.\n",
      "[I 2025-06-05 15:59:07,122] Trial 8 finished with value: 1.7601800898435856e-20 and parameters: {'max_iter': 188, 'tol': 8.275833140090584e-07, 'c1': 0.0005647763138647206, 'c2': 0.32770047873784225, 'epsilon': 1.2724582148052183e-08}. Best is trial 2 with value: 2.1447645151672722e-23.\n",
      "[I 2025-06-05 15:59:07,125] Trial 9 finished with value: 2.890511414587935e-12 and parameters: {'max_iter': 483, 'tol': 6.969460694665658e-05, 'c1': 1.1642627238482902e-06, 'c2': 0.21176402663273525, 'epsilon': 3.6374904020106206e-09}. Best is trial 2 with value: 2.1447645151672722e-23.\n",
      "[I 2025-06-05 15:59:07,141] Trial 10 finished with value: 1.505700384637271e-18 and parameters: {'max_iter': 758, 'tol': 9.555603614385766e-08, 'c1': 0.00958143433866177, 'c2': 0.4390540667971957, 'epsilon': 2.3993621106446744e-08}. Best is trial 2 with value: 2.1447645151672722e-23.\n",
      "[I 2025-06-05 15:59:07,158] Trial 11 finished with value: 1.0214143767856424e-20 and parameters: {'max_iter': 699, 'tol': 1.100917540339398e-08, 'c1': 1.1923620932784598e-05, 'c2': 0.11659144587512557, 'epsilon': 7.648097817633158e-10}. Best is trial 2 with value: 2.1447645151672722e-23.\n",
      "[I 2025-06-05 15:59:07,179] Trial 12 finished with value: 2.405207554590406e-21 and parameters: {'max_iter': 718, 'tol': 1.7587351696889152e-07, 'c1': 0.00012138716919019717, 'c2': 0.4703252438432434, 'epsilon': 1.493150521731701e-09}. Best is trial 2 with value: 2.1447645151672722e-23.\n",
      "[I 2025-06-05 15:59:07,198] Trial 13 finished with value: 8.885965611868003e-16 and parameters: {'max_iter': 401, 'tol': 3.016721756052043e-07, 'c1': 6.246391891532933e-06, 'c2': 0.39330033720534174, 'epsilon': 1.0387796593895632e-10}. Best is trial 2 with value: 2.1447645151672722e-23.\n",
      "[I 2025-06-05 15:59:07,218] Trial 14 finished with value: 9.491081294134929e-18 and parameters: {'max_iter': 593, 'tol': 4.127956064812518e-06, 'c1': 0.00010873327888810528, 'c2': 0.590780217643651, 'epsilon': 2.9619157203588024e-08}. Best is trial 2 with value: 2.1447645151672722e-23.\n",
      "[I 2025-06-05 15:59:07,237] Trial 15 finished with value: 8.792648310783776e-19 and parameters: {'max_iter': 815, 'tol': 4.1932492875290746e-08, 'c1': 1.9931234042562687e-05, 'c2': 0.1508108420609762, 'epsilon': 5.323389343483896e-07}. Best is trial 2 with value: 2.1447645151672722e-23.\n",
      "[I 2025-06-05 15:59:07,258] Trial 16 finished with value: 6.664509739857512e-17 and parameters: {'max_iter': 923, 'tol': 1.9517794583624313e-06, 'c1': 0.00029487778944987806, 'c2': 0.8668250706606683, 'epsilon': 2.0542456773036987e-09}. Best is trial 2 with value: 2.1447645151672722e-23.\n",
      "[I 2025-06-05 15:59:07,277] Trial 17 finished with value: 3.899794088138148e-15 and parameters: {'max_iter': 678, 'tol': 3.7378946956024595e-05, 'c1': 3.5178773910500157e-06, 'c2': 0.2617254943825589, 'epsilon': 4.089801297293077e-08}. Best is trial 2 with value: 2.1447645151672722e-23.\n",
      "[I 2025-06-05 15:59:07,296] Trial 18 finished with value: 1.2216497193478894e-23 and parameters: {'max_iter': 441, 'tol': 1.1910636518050363e-08, 'c1': 0.003233283617063259, 'c2': 0.10146412947959704, 'epsilon': 6.051425368459169e-10}. Best is trial 18 with value: 1.2216497193478894e-23.\n",
      "[I 2025-06-05 15:59:07,316] Trial 19 finished with value: 1.6747825585567627e-18 and parameters: {'max_iter': 305, 'tol': 1.2589472426568642e-08, 'c1': 0.008375470716103265, 'c2': 0.6246364511842081, 'epsilon': 6.861424760755654e-10}. Best is trial 18 with value: 1.2216497193478894e-23.\n",
      "[I 2025-06-05 15:59:07,334] Trial 20 finished with value: 5.717650468321132e-21 and parameters: {'max_iter': 470, 'tol': 3.263088237864872e-08, 'c1': 0.0026526273887897364, 'c2': 0.2986575605299442, 'epsilon': 9.996345075592014e-09}. Best is trial 18 with value: 1.2216497193478894e-23.\n",
      "[I 2025-06-05 15:59:07,355] Trial 21 finished with value: 8.61692242650616e-19 and parameters: {'max_iter': 624, 'tol': 1.366654105052047e-07, 'c1': 0.00022348977456856, 'c2': 0.10109233080022001, 'epsilon': 2.5686593101975744e-10}. Best is trial 18 with value: 1.2216497193478894e-23.\n",
      "[I 2025-06-05 15:59:07,374] Trial 22 finished with value: 3.526687385660612e-23 and parameters: {'max_iter': 112, 'tol': 5.794012276571518e-08, 'c1': 0.004256910427285476, 'c2': 0.14905585819870154, 'epsilon': 8.195267083912949e-10}. Best is trial 18 with value: 1.2216497193478894e-23.\n",
      "[I 2025-06-05 15:59:07,395] Trial 23 finished with value: 8.61692242650616e-19 and parameters: {'max_iter': 419, 'tol': 1.9033396750449426e-08, 'c1': 4.982038547802354e-05, 'c2': 0.1008059826768498, 'epsilon': 3.764601543152283e-09}. Best is trial 18 with value: 1.2216497193478894e-23.\n",
      "[I 2025-06-05 15:59:07,417] Trial 24 finished with value: 9.484502715977738e-15 and parameters: {'max_iter': 559, 'tol': 3.278125964652474e-07, 'c1': 0.00033310404637080306, 'c2': 0.12814456334690785, 'epsilon': 3.0784744587497544e-10}. Best is trial 18 with value: 1.2216497193478894e-23.\n",
      "[I 2025-06-05 15:59:07,438] Trial 25 finished with value: 9.638965818788714e-17 and parameters: {'max_iter': 771, 'tol': 1.4007878233624826e-06, 'c1': 2.5552473433493706e-06, 'c2': 0.19539912909912088, 'epsilon': 1.116811918508947e-08}. Best is trial 18 with value: 1.2216497193478894e-23.\n",
      "[I 2025-06-05 15:59:07,460] Trial 26 finished with value: 3.526687385660612e-23 and parameters: {'max_iter': 325, 'tol': 1.0484040945400818e-08, 'c1': 1.222041978064862e-05, 'c2': 0.14801860358314667, 'epsilon': 1.979518880554841e-09}. Best is trial 18 with value: 1.2216497193478894e-23.\n",
      "[I 2025-06-05 15:59:07,480] Trial 27 finished with value: 2.0201804907846337e-20 and parameters: {'max_iter': 483, 'tol': 9.190200869683075e-08, 'c1': 0.0008490839607728548, 'c2': 0.37569650278312855, 'epsilon': 5.942913423419553e-09}. Best is trial 18 with value: 1.2216497193478894e-23.\n",
      "[I 2025-06-05 15:59:07,501] Trial 28 finished with value: 3.1785352468730114e-19 and parameters: {'max_iter': 673, 'tol': 2.5993000773474833e-08, 'c1': 0.0014961152507626445, 'c2': 0.5186892656065796, 'epsilon': 1.1792668193479347e-10}. Best is trial 18 with value: 1.2216497193478894e-23.\n",
      "[I 2025-06-05 15:59:07,522] Trial 29 finished with value: 6.664509739857512e-17 and parameters: {'max_iter': 859, 'tol': 1.2416745422356307e-05, 'c1': 2.7916278483744323e-05, 'c2': 0.7590888894878407, 'epsilon': 4.713274756286751e-07}. Best is trial 18 with value: 1.2216497193478894e-23.\n",
      "[I 2025-06-05 15:59:07,542] Trial 30 finished with value: 9.638965818788714e-17 and parameters: {'max_iter': 514, 'tol': 5.9682084560845585e-06, 'c1': 8.078233313263595e-05, 'c2': 0.24563204463911825, 'epsilon': 5.877298197012403e-08}. Best is trial 18 with value: 1.2216497193478894e-23.\n",
      "[I 2025-06-05 15:59:07,563] Trial 31 finished with value: 3.526687385660612e-23 and parameters: {'max_iter': 125, 'tol': 5.371784046271045e-08, 'c1': 0.004201217356383914, 'c2': 0.14137990546257295, 'epsilon': 8.502904946600781e-10}. Best is trial 18 with value: 1.2216497193478894e-23.\n",
      "[I 2025-06-05 15:59:07,583] Trial 32 finished with value: 3.77475624918924e-23 and parameters: {'max_iter': 250, 'tol': 1.9856837080491713e-08, 'c1': 0.004419291716503016, 'c2': 0.1669206469034778, 'epsilon': 5.196030135443176e-10}. Best is trial 18 with value: 1.2216497193478894e-23.\n",
      "[I 2025-06-05 15:59:07,605] Trial 33 finished with value: 1.0214143767856424e-20 and parameters: {'max_iter': 109, 'tol': 6.943962362112746e-08, 'c1': 0.00236300357619124, 'c2': 0.11507158098510246, 'epsilon': 1.2408809374205558e-09}. Best is trial 18 with value: 1.2216497193478894e-23.\n",
      "[I 2025-06-05 15:59:07,626] Trial 34 finished with value: 3.77475624918924e-23 and parameters: {'max_iter': 622, 'tol': 1.8121532385626226e-08, 'c1': 0.0005856629640725083, 'c2': 0.1737551492840583, 'epsilon': 1.5681535119658409e-07}. Best is trial 18 with value: 1.2216497193478894e-23.\n",
      "[I 2025-06-05 15:59:07,647] Trial 35 finished with value: 9.484502715977738e-15 and parameters: {'max_iter': 566, 'tol': 1.8003604669194637e-07, 'c1': 0.004501943210519825, 'c2': 0.13497512676322462, 'epsilon': 3.343112974053364e-09}. Best is trial 18 with value: 1.2216497193478894e-23.\n",
      "[I 2025-06-05 15:59:07,669] Trial 36 finished with value: 1.770463937062727e-22 and parameters: {'max_iter': 158, 'tol': 3.6195880843939646e-08, 'c1': 0.0012620113137437397, 'c2': 0.9942826166107968, 'epsilon': 4.0888927250044713e-10}. Best is trial 18 with value: 1.2216497193478894e-23.\n",
      "[I 2025-06-05 15:59:07,692] Trial 37 finished with value: 9.638965818788714e-17 and parameters: {'max_iter': 337, 'tol': 7.825319272985909e-07, 'c1': 0.00017153775309703879, 'c2': 0.23768340203871224, 'epsilon': 1.8586882843021272e-08}. Best is trial 18 with value: 1.2216497193478894e-23.\n",
      "[I 2025-06-05 15:59:07,714] Trial 38 finished with value: 8.792648310783776e-19 and parameters: {'max_iter': 438, 'tol': 4.078324394694213e-07, 'c1': 1.078756635482996e-06, 'c2': 0.17401088346822258, 'epsilon': 1.823357824126762e-10}. Best is trial 18 with value: 1.2216497193478894e-23.\n",
      "[I 2025-06-05 15:59:07,736] Trial 39 finished with value: 1.0214143767856424e-20 and parameters: {'max_iter': 201, 'tol': 6.69011879938732e-08, 'c1': 0.0005104231949991212, 'c2': 0.11588992353579036, 'epsilon': 1.0034026276655655e-07}. Best is trial 18 with value: 1.2216497193478894e-23.\n",
      "[I 2025-06-05 15:59:07,760] Trial 40 finished with value: 5.717650468321132e-21 and parameters: {'max_iter': 282, 'tol': 1.5107888374020437e-08, 'c1': 0.0025457712617369542, 'c2': 0.2997403081317554, 'epsilon': 5.503313002850535e-09}. Best is trial 18 with value: 1.2216497193478894e-23.\n",
      "[I 2025-06-05 15:59:07,780] Trial 41 finished with value: 3.77475624918924e-23 and parameters: {'max_iter': 376, 'tol': 1.046524252091725e-08, 'c1': 1.2843622582051951e-05, 'c2': 0.16056426534276702, 'epsilon': 1.5060456790481847e-09}. Best is trial 18 with value: 1.2216497193478894e-23.\n",
      "[I 2025-06-05 15:59:07,802] Trial 42 finished with value: 1.0474330772502306e-19 and parameters: {'max_iter': 349, 'tol': 2.6040359288848732e-08, 'c1': 7.08938246638365e-06, 'c2': 0.1981991401403733, 'epsilon': 2.5945303868245823e-09}. Best is trial 18 with value: 1.2216497193478894e-23.\n",
      "[I 2025-06-05 15:59:07,824] Trial 43 finished with value: 3.526687385660612e-23 and parameters: {'max_iter': 518, 'tol': 1.0063663197161851e-08, 'c1': 3.0309252346066928e-06, 'c2': 0.1461735661790395, 'epsilon': 1.0132576094709299e-09}. Best is trial 18 with value: 1.2216497193478894e-23.\n",
      "[I 2025-06-05 15:59:07,845] Trial 44 finished with value: 1.0214143767856424e-20 and parameters: {'max_iter': 235, 'tol': 3.0756915456491094e-08, 'c1': 1.9768662968084762e-06, 'c2': 0.12565057417109693, 'epsilon': 1.931574054562664e-09}. Best is trial 18 with value: 1.2216497193478894e-23.\n",
      "[I 2025-06-05 15:59:07,867] Trial 45 finished with value: 1.2216497193478894e-23 and parameters: {'max_iter': 653, 'tol': 1.594832008161318e-08, 'c1': 5.541526984994547e-05, 'c2': 0.1089720724089297, 'epsilon': 6.362938378544526e-09}. Best is trial 18 with value: 1.2216497193478894e-23.\n",
      "[I 2025-06-05 15:59:07,890] Trial 46 finished with value: 8.61692242650616e-19 and parameters: {'max_iter': 746, 'tol': 1.1135258917643215e-07, 'c1': 4.41512451844776e-05, 'c2': 0.1091723234686507, 'epsilon': 7.68446161094981e-09}. Best is trial 18 with value: 1.2216497193478894e-23.\n",
      "[I 2025-06-05 15:59:07,914] Trial 47 finished with value: 8.61692242650616e-19 and parameters: {'max_iter': 810, 'tol': 5.499447799155894e-08, 'c1': 6.360306667603525e-05, 'c2': 0.10761622539550508, 'epsilon': 5.434122864898678e-10}. Best is trial 18 with value: 1.2216497193478894e-23.\n",
      "[I 2025-06-05 15:59:07,936] Trial 48 finished with value: 9.484502715977738e-15 and parameters: {'max_iter': 648, 'tol': 2.044169001982964e-05, 'c1': 2.3299006768912936e-05, 'c2': 0.12883252448221028, 'epsilon': 1.7286253799816334e-08}. Best is trial 18 with value: 1.2216497193478894e-23.\n",
      "[I 2025-06-05 15:59:07,958] Trial 49 finished with value: 2.1447645151672722e-23 and parameters: {'max_iter': 721, 'tol': 1.5836805612928276e-08, 'c1': 0.006523326460747379, 'c2': 0.5067156729074737, 'epsilon': 4.010933212457729e-09}. Best is trial 18 with value: 1.2216497193478894e-23.\n"
     ]
    },
    {
     "name": "stdout",
     "output_type": "stream",
     "text": [
      "\n",
      "Лучшие параметры для функции Розенброка:\n",
      "{'max_iter': 441, 'tol': 1.1910636518050363e-08, 'c1': 0.003233283617063259, 'c2': 0.10146412947959704, 'epsilon': 6.051425368459169e-10}\n"
     ]
    }
   ],
   "execution_count": 8
  },
  {
   "metadata": {
    "ExecuteTime": {
     "end_time": "2025-06-05T12:59:09.858086Z",
     "start_time": "2025-06-05T12:59:07.969474Z"
    }
   },
   "cell_type": "code",
   "source": [
    "# Визуализация для квадратичной функции\n",
    "optuna.visualization.plot_optimization_history(study_quadratic).show()\n",
    "optuna.visualization.plot_slice(study_quadratic).show()\n",
    "\n",
    "# Визуализация для функции Розенброка\n",
    "optuna.visualization.plot_optimization_history(study_rosenbrock).show()\n",
    "optuna.visualization.plot_slice(study_rosenbrock).show()"
   ],
   "id": "43c0ae25ab31350f",
   "outputs": [
    {
     "data": {
      "application/vnd.plotly.v1+json": {
       "data": [
        {
         "mode": "markers",
         "name": "Objective Value",
         "x": [
          0,
          1,
          2,
          3,
          4,
          5,
          6,
          7,
          8,
          9,
          10,
          11,
          12,
          13,
          14,
          15,
          16,
          17,
          18,
          19,
          20,
          21,
          22,
          23,
          24,
          25,
          26,
          27,
          28,
          29,
          30,
          31,
          32,
          33,
          34,
          35,
          36,
          37,
          38,
          39,
          40,
          41,
          42,
          43,
          44,
          45,
          46,
          47,
          48,
          49
         ],
         "y": [
          -4.091841615261904,
          -4.091841615261904,
          -4.091841615261903,
          -4.091841615261904,
          -4.091841615261903,
          -4.091841615261904,
          -4.091841615261904,
          -4.091841615261904,
          -4.09184161518937,
          -4.091841615261904,
          -4.091841615261904,
          -4.091841615261904,
          -4.091841615261904,
          -4.091841615261904,
          -4.091841615261904,
          -4.091841615261904,
          -4.09184161518937,
          -4.091841615261904,
          -4.091841615261904,
          -4.091841615261903,
          -4.091841615261904,
          -4.091841615261904,
          -4.091841615261904,
          -4.091841615261904,
          -4.091841615261904,
          -4.091841615261904,
          -4.091841615261904,
          -4.091841615261904,
          -4.091841615261904,
          -4.091841615261904,
          -4.091841615261904,
          -4.091841615261904,
          -4.091841615261904,
          -4.091841615261904,
          -4.091841615261904,
          -4.091841615261904,
          -4.091841615261904,
          -4.091841615261904,
          -4.091841615261904,
          -4.091841615261904,
          -4.09184161518937,
          -4.091841615261904,
          -4.091841615261903,
          -4.091841615261904,
          -4.091841615261904,
          -4.091841615261904,
          -4.091841615261904,
          -4.091841615261904,
          -4.091841615261904,
          -4.091841615261904
         ],
         "type": "scatter"
        },
        {
         "mode": "lines",
         "name": "Best Value",
         "x": [
          0,
          1,
          2,
          3,
          4,
          5,
          6,
          7,
          8,
          9,
          10,
          11,
          12,
          13,
          14,
          15,
          16,
          17,
          18,
          19,
          20,
          21,
          22,
          23,
          24,
          25,
          26,
          27,
          28,
          29,
          30,
          31,
          32,
          33,
          34,
          35,
          36,
          37,
          38,
          39,
          40,
          41,
          42,
          43,
          44,
          45,
          46,
          47,
          48,
          49
         ],
         "y": [
          -4.091841615261904,
          -4.091841615261904,
          -4.091841615261904,
          -4.091841615261904,
          -4.091841615261904,
          -4.091841615261904,
          -4.091841615261904,
          -4.091841615261904,
          -4.091841615261904,
          -4.091841615261904,
          -4.091841615261904,
          -4.091841615261904,
          -4.091841615261904,
          -4.091841615261904,
          -4.091841615261904,
          -4.091841615261904,
          -4.091841615261904,
          -4.091841615261904,
          -4.091841615261904,
          -4.091841615261904,
          -4.091841615261904,
          -4.091841615261904,
          -4.091841615261904,
          -4.091841615261904,
          -4.091841615261904,
          -4.091841615261904,
          -4.091841615261904,
          -4.091841615261904,
          -4.091841615261904,
          -4.091841615261904,
          -4.091841615261904,
          -4.091841615261904,
          -4.091841615261904,
          -4.091841615261904,
          -4.091841615261904,
          -4.091841615261904,
          -4.091841615261904,
          -4.091841615261904,
          -4.091841615261904,
          -4.091841615261904,
          -4.091841615261904,
          -4.091841615261904,
          -4.091841615261904,
          -4.091841615261904,
          -4.091841615261904,
          -4.091841615261904,
          -4.091841615261904,
          -4.091841615261904,
          -4.091841615261904,
          -4.091841615261904
         ],
         "type": "scatter"
        },
        {
         "marker": {
          "color": "#cccccc"
         },
         "mode": "markers",
         "name": "Infeasible Trial",
         "showlegend": false,
         "x": [],
         "y": [],
         "type": "scatter"
        }
       ],
       "layout": {
        "title": {
         "text": "Optimization History Plot"
        },
        "xaxis": {
         "title": {
          "text": "Trial"
         }
        },
        "yaxis": {
         "title": {
          "text": "Objective Value"
         }
        },
        "template": {
         "data": {
          "histogram2dcontour": [
           {
            "type": "histogram2dcontour",
            "colorbar": {
             "outlinewidth": 0,
             "ticks": ""
            },
            "colorscale": [
             [
              0.0,
              "#0d0887"
             ],
             [
              0.1111111111111111,
              "#46039f"
             ],
             [
              0.2222222222222222,
              "#7201a8"
             ],
             [
              0.3333333333333333,
              "#9c179e"
             ],
             [
              0.4444444444444444,
              "#bd3786"
             ],
             [
              0.5555555555555556,
              "#d8576b"
             ],
             [
              0.6666666666666666,
              "#ed7953"
             ],
             [
              0.7777777777777778,
              "#fb9f3a"
             ],
             [
              0.8888888888888888,
              "#fdca26"
             ],
             [
              1.0,
              "#f0f921"
             ]
            ]
           }
          ],
          "choropleth": [
           {
            "type": "choropleth",
            "colorbar": {
             "outlinewidth": 0,
             "ticks": ""
            }
           }
          ],
          "histogram2d": [
           {
            "type": "histogram2d",
            "colorbar": {
             "outlinewidth": 0,
             "ticks": ""
            },
            "colorscale": [
             [
              0.0,
              "#0d0887"
             ],
             [
              0.1111111111111111,
              "#46039f"
             ],
             [
              0.2222222222222222,
              "#7201a8"
             ],
             [
              0.3333333333333333,
              "#9c179e"
             ],
             [
              0.4444444444444444,
              "#bd3786"
             ],
             [
              0.5555555555555556,
              "#d8576b"
             ],
             [
              0.6666666666666666,
              "#ed7953"
             ],
             [
              0.7777777777777778,
              "#fb9f3a"
             ],
             [
              0.8888888888888888,
              "#fdca26"
             ],
             [
              1.0,
              "#f0f921"
             ]
            ]
           }
          ],
          "heatmap": [
           {
            "type": "heatmap",
            "colorbar": {
             "outlinewidth": 0,
             "ticks": ""
            },
            "colorscale": [
             [
              0.0,
              "#0d0887"
             ],
             [
              0.1111111111111111,
              "#46039f"
             ],
             [
              0.2222222222222222,
              "#7201a8"
             ],
             [
              0.3333333333333333,
              "#9c179e"
             ],
             [
              0.4444444444444444,
              "#bd3786"
             ],
             [
              0.5555555555555556,
              "#d8576b"
             ],
             [
              0.6666666666666666,
              "#ed7953"
             ],
             [
              0.7777777777777778,
              "#fb9f3a"
             ],
             [
              0.8888888888888888,
              "#fdca26"
             ],
             [
              1.0,
              "#f0f921"
             ]
            ]
           }
          ],
          "contourcarpet": [
           {
            "type": "contourcarpet",
            "colorbar": {
             "outlinewidth": 0,
             "ticks": ""
            }
           }
          ],
          "contour": [
           {
            "type": "contour",
            "colorbar": {
             "outlinewidth": 0,
             "ticks": ""
            },
            "colorscale": [
             [
              0.0,
              "#0d0887"
             ],
             [
              0.1111111111111111,
              "#46039f"
             ],
             [
              0.2222222222222222,
              "#7201a8"
             ],
             [
              0.3333333333333333,
              "#9c179e"
             ],
             [
              0.4444444444444444,
              "#bd3786"
             ],
             [
              0.5555555555555556,
              "#d8576b"
             ],
             [
              0.6666666666666666,
              "#ed7953"
             ],
             [
              0.7777777777777778,
              "#fb9f3a"
             ],
             [
              0.8888888888888888,
              "#fdca26"
             ],
             [
              1.0,
              "#f0f921"
             ]
            ]
           }
          ],
          "surface": [
           {
            "type": "surface",
            "colorbar": {
             "outlinewidth": 0,
             "ticks": ""
            },
            "colorscale": [
             [
              0.0,
              "#0d0887"
             ],
             [
              0.1111111111111111,
              "#46039f"
             ],
             [
              0.2222222222222222,
              "#7201a8"
             ],
             [
              0.3333333333333333,
              "#9c179e"
             ],
             [
              0.4444444444444444,
              "#bd3786"
             ],
             [
              0.5555555555555556,
              "#d8576b"
             ],
             [
              0.6666666666666666,
              "#ed7953"
             ],
             [
              0.7777777777777778,
              "#fb9f3a"
             ],
             [
              0.8888888888888888,
              "#fdca26"
             ],
             [
              1.0,
              "#f0f921"
             ]
            ]
           }
          ],
          "mesh3d": [
           {
            "type": "mesh3d",
            "colorbar": {
             "outlinewidth": 0,
             "ticks": ""
            }
           }
          ],
          "scatter": [
           {
            "fillpattern": {
             "fillmode": "overlay",
             "size": 10,
             "solidity": 0.2
            },
            "type": "scatter"
           }
          ],
          "parcoords": [
           {
            "type": "parcoords",
            "line": {
             "colorbar": {
              "outlinewidth": 0,
              "ticks": ""
             }
            }
           }
          ],
          "scatterpolargl": [
           {
            "type": "scatterpolargl",
            "marker": {
             "colorbar": {
              "outlinewidth": 0,
              "ticks": ""
             }
            }
           }
          ],
          "bar": [
           {
            "error_x": {
             "color": "#2a3f5f"
            },
            "error_y": {
             "color": "#2a3f5f"
            },
            "marker": {
             "line": {
              "color": "#E5ECF6",
              "width": 0.5
             },
             "pattern": {
              "fillmode": "overlay",
              "size": 10,
              "solidity": 0.2
             }
            },
            "type": "bar"
           }
          ],
          "scattergeo": [
           {
            "type": "scattergeo",
            "marker": {
             "colorbar": {
              "outlinewidth": 0,
              "ticks": ""
             }
            }
           }
          ],
          "scatterpolar": [
           {
            "type": "scatterpolar",
            "marker": {
             "colorbar": {
              "outlinewidth": 0,
              "ticks": ""
             }
            }
           }
          ],
          "histogram": [
           {
            "marker": {
             "pattern": {
              "fillmode": "overlay",
              "size": 10,
              "solidity": 0.2
             }
            },
            "type": "histogram"
           }
          ],
          "scattergl": [
           {
            "type": "scattergl",
            "marker": {
             "colorbar": {
              "outlinewidth": 0,
              "ticks": ""
             }
            }
           }
          ],
          "scatter3d": [
           {
            "type": "scatter3d",
            "line": {
             "colorbar": {
              "outlinewidth": 0,
              "ticks": ""
             }
            },
            "marker": {
             "colorbar": {
              "outlinewidth": 0,
              "ticks": ""
             }
            }
           }
          ],
          "scattermap": [
           {
            "type": "scattermap",
            "marker": {
             "colorbar": {
              "outlinewidth": 0,
              "ticks": ""
             }
            }
           }
          ],
          "scattermapbox": [
           {
            "type": "scattermapbox",
            "marker": {
             "colorbar": {
              "outlinewidth": 0,
              "ticks": ""
             }
            }
           }
          ],
          "scatterternary": [
           {
            "type": "scatterternary",
            "marker": {
             "colorbar": {
              "outlinewidth": 0,
              "ticks": ""
             }
            }
           }
          ],
          "scattercarpet": [
           {
            "type": "scattercarpet",
            "marker": {
             "colorbar": {
              "outlinewidth": 0,
              "ticks": ""
             }
            }
           }
          ],
          "carpet": [
           {
            "aaxis": {
             "endlinecolor": "#2a3f5f",
             "gridcolor": "white",
             "linecolor": "white",
             "minorgridcolor": "white",
             "startlinecolor": "#2a3f5f"
            },
            "baxis": {
             "endlinecolor": "#2a3f5f",
             "gridcolor": "white",
             "linecolor": "white",
             "minorgridcolor": "white",
             "startlinecolor": "#2a3f5f"
            },
            "type": "carpet"
           }
          ],
          "table": [
           {
            "cells": {
             "fill": {
              "color": "#EBF0F8"
             },
             "line": {
              "color": "white"
             }
            },
            "header": {
             "fill": {
              "color": "#C8D4E3"
             },
             "line": {
              "color": "white"
             }
            },
            "type": "table"
           }
          ],
          "barpolar": [
           {
            "marker": {
             "line": {
              "color": "#E5ECF6",
              "width": 0.5
             },
             "pattern": {
              "fillmode": "overlay",
              "size": 10,
              "solidity": 0.2
             }
            },
            "type": "barpolar"
           }
          ],
          "pie": [
           {
            "automargin": true,
            "type": "pie"
           }
          ]
         },
         "layout": {
          "autotypenumbers": "strict",
          "colorway": [
           "#636efa",
           "#EF553B",
           "#00cc96",
           "#ab63fa",
           "#FFA15A",
           "#19d3f3",
           "#FF6692",
           "#B6E880",
           "#FF97FF",
           "#FECB52"
          ],
          "font": {
           "color": "#2a3f5f"
          },
          "hovermode": "closest",
          "hoverlabel": {
           "align": "left"
          },
          "paper_bgcolor": "white",
          "plot_bgcolor": "#E5ECF6",
          "polar": {
           "bgcolor": "#E5ECF6",
           "angularaxis": {
            "gridcolor": "white",
            "linecolor": "white",
            "ticks": ""
           },
           "radialaxis": {
            "gridcolor": "white",
            "linecolor": "white",
            "ticks": ""
           }
          },
          "ternary": {
           "bgcolor": "#E5ECF6",
           "aaxis": {
            "gridcolor": "white",
            "linecolor": "white",
            "ticks": ""
           },
           "baxis": {
            "gridcolor": "white",
            "linecolor": "white",
            "ticks": ""
           },
           "caxis": {
            "gridcolor": "white",
            "linecolor": "white",
            "ticks": ""
           }
          },
          "coloraxis": {
           "colorbar": {
            "outlinewidth": 0,
            "ticks": ""
           }
          },
          "colorscale": {
           "sequential": [
            [
             0.0,
             "#0d0887"
            ],
            [
             0.1111111111111111,
             "#46039f"
            ],
            [
             0.2222222222222222,
             "#7201a8"
            ],
            [
             0.3333333333333333,
             "#9c179e"
            ],
            [
             0.4444444444444444,
             "#bd3786"
            ],
            [
             0.5555555555555556,
             "#d8576b"
            ],
            [
             0.6666666666666666,
             "#ed7953"
            ],
            [
             0.7777777777777778,
             "#fb9f3a"
            ],
            [
             0.8888888888888888,
             "#fdca26"
            ],
            [
             1.0,
             "#f0f921"
            ]
           ],
           "sequentialminus": [
            [
             0.0,
             "#0d0887"
            ],
            [
             0.1111111111111111,
             "#46039f"
            ],
            [
             0.2222222222222222,
             "#7201a8"
            ],
            [
             0.3333333333333333,
             "#9c179e"
            ],
            [
             0.4444444444444444,
             "#bd3786"
            ],
            [
             0.5555555555555556,
             "#d8576b"
            ],
            [
             0.6666666666666666,
             "#ed7953"
            ],
            [
             0.7777777777777778,
             "#fb9f3a"
            ],
            [
             0.8888888888888888,
             "#fdca26"
            ],
            [
             1.0,
             "#f0f921"
            ]
           ],
           "diverging": [
            [
             0,
             "#8e0152"
            ],
            [
             0.1,
             "#c51b7d"
            ],
            [
             0.2,
             "#de77ae"
            ],
            [
             0.3,
             "#f1b6da"
            ],
            [
             0.4,
             "#fde0ef"
            ],
            [
             0.5,
             "#f7f7f7"
            ],
            [
             0.6,
             "#e6f5d0"
            ],
            [
             0.7,
             "#b8e186"
            ],
            [
             0.8,
             "#7fbc41"
            ],
            [
             0.9,
             "#4d9221"
            ],
            [
             1,
             "#276419"
            ]
           ]
          },
          "xaxis": {
           "gridcolor": "white",
           "linecolor": "white",
           "ticks": "",
           "title": {
            "standoff": 15
           },
           "zerolinecolor": "white",
           "automargin": true,
           "zerolinewidth": 2
          },
          "yaxis": {
           "gridcolor": "white",
           "linecolor": "white",
           "ticks": "",
           "title": {
            "standoff": 15
           },
           "zerolinecolor": "white",
           "automargin": true,
           "zerolinewidth": 2
          },
          "scene": {
           "xaxis": {
            "backgroundcolor": "#E5ECF6",
            "gridcolor": "white",
            "linecolor": "white",
            "showbackground": true,
            "ticks": "",
            "zerolinecolor": "white",
            "gridwidth": 2
           },
           "yaxis": {
            "backgroundcolor": "#E5ECF6",
            "gridcolor": "white",
            "linecolor": "white",
            "showbackground": true,
            "ticks": "",
            "zerolinecolor": "white",
            "gridwidth": 2
           },
           "zaxis": {
            "backgroundcolor": "#E5ECF6",
            "gridcolor": "white",
            "linecolor": "white",
            "showbackground": true,
            "ticks": "",
            "zerolinecolor": "white",
            "gridwidth": 2
           }
          },
          "shapedefaults": {
           "line": {
            "color": "#2a3f5f"
           }
          },
          "annotationdefaults": {
           "arrowcolor": "#2a3f5f",
           "arrowhead": 0,
           "arrowwidth": 1
          },
          "geo": {
           "bgcolor": "white",
           "landcolor": "#E5ECF6",
           "subunitcolor": "white",
           "showland": true,
           "showlakes": true,
           "lakecolor": "white"
          },
          "title": {
           "x": 0.05
          },
          "mapbox": {
           "style": "light"
          }
         }
        }
       },
       "config": {
        "plotlyServerURL": "https://plot.ly"
       }
      }
     },
     "metadata": {},
     "output_type": "display_data"
    },
    {
     "data": {
      "application/vnd.plotly.v1+json": {
       "data": [
        {
         "marker": {
          "color": [
           0,
           1,
           2,
           3,
           4,
           5,
           6,
           7,
           8,
           9,
           10,
           11,
           12,
           13,
           14,
           15,
           16,
           17,
           18,
           19,
           20,
           21,
           22,
           23,
           24,
           25,
           26,
           27,
           28,
           29,
           30,
           31,
           32,
           33,
           34,
           35,
           36,
           37,
           38,
           39,
           40,
           41,
           42,
           43,
           44,
           45,
           46,
           47,
           48,
           49
          ],
          "colorbar": {
           "title": {
            "text": "Trial"
           },
           "x": 1.0,
           "xpad": 40
          },
          "colorscale": [
           [
            0.0,
            "rgb(247,251,255)"
           ],
           [
            0.125,
            "rgb(222,235,247)"
           ],
           [
            0.25,
            "rgb(198,219,239)"
           ],
           [
            0.375,
            "rgb(158,202,225)"
           ],
           [
            0.5,
            "rgb(107,174,214)"
           ],
           [
            0.625,
            "rgb(66,146,198)"
           ],
           [
            0.75,
            "rgb(33,113,181)"
           ],
           [
            0.875,
            "rgb(8,81,156)"
           ],
           [
            1.0,
            "rgb(8,48,107)"
           ]
          ],
          "line": {
           "color": "Grey",
           "width": 0.5
          },
          "showscale": true
         },
         "mode": "markers",
         "name": "Feasible Trial",
         "showlegend": false,
         "x": [
          3.588982654821861E-6,
          1.602552446151408E-4,
          7.649668971133316E-6,
          3.007066791550342E-4,
          4.044318113810049E-4,
          1.923649709186366E-5,
          1.5658914291472522E-4,
          0.007692737446043627,
          7.0968863113317495E-6,
          1.959634828294996E-5,
          1.2282383026666784E-6,
          0.0011759722084112784,
          5.0001741569403104E-5,
          1.292206399704592E-6,
          6.299815919613535E-5,
          0.001772883087174815,
          3.925508243221822E-6,
          2.762630584662505E-5,
          1.4974141165887805E-4,
          7.056570504675396E-4,
          0.007362286248635951,
          2.6994619766812305E-4,
          9.283610284246355E-5,
          0.0019342929750133582,
          3.752105249592537E-4,
          3.67500720743091E-5,
          2.2365463450697826E-4,
          6.326938204751078E-4,
          0.003347327100254777,
          3.3588460946518842E-6,
          8.075249275167919E-6,
          1.4157723328683959E-5,
          8.657179256488965E-5,
          2.823025272773107E-6,
          9.63162692802287E-6,
          1.7342200480047095E-4,
          2.4511972323360257E-5,
          6.073505786918649E-6,
          1.4733181261938066E-5,
          5.552398449395229E-4,
          2.059562714944919E-6,
          1.2863809607647868E-4,
          4.647887448617009E-5,
          3.2849359309856284E-4,
          7.33931401116143E-5,
          0.0010666061843307485,
          1.0657494040157763E-6,
          2.1725188584030273E-4,
          1.357346479172809E-4,
          4.0458169983606067E-5
         ],
         "y": [
          -4.091841615261904,
          -4.091841615261904,
          -4.091841615261903,
          -4.091841615261904,
          -4.091841615261903,
          -4.091841615261904,
          -4.091841615261904,
          -4.091841615261904,
          -4.09184161518937,
          -4.091841615261904,
          -4.091841615261904,
          -4.091841615261904,
          -4.091841615261904,
          -4.091841615261904,
          -4.091841615261904,
          -4.091841615261904,
          -4.09184161518937,
          -4.091841615261904,
          -4.091841615261904,
          -4.091841615261903,
          -4.091841615261904,
          -4.091841615261904,
          -4.091841615261904,
          -4.091841615261904,
          -4.091841615261904,
          -4.091841615261904,
          -4.091841615261904,
          -4.091841615261904,
          -4.091841615261904,
          -4.091841615261904,
          -4.091841615261904,
          -4.091841615261904,
          -4.091841615261904,
          -4.091841615261904,
          -4.091841615261904,
          -4.091841615261904,
          -4.091841615261904,
          -4.091841615261904,
          -4.091841615261904,
          -4.091841615261904,
          -4.09184161518937,
          -4.091841615261904,
          -4.091841615261903,
          -4.091841615261904,
          -4.091841615261904,
          -4.091841615261904,
          -4.091841615261904,
          -4.091841615261904,
          -4.091841615261904,
          -4.091841615261904
         ],
         "type": "scatter",
         "xaxis": "x",
         "yaxis": "y"
        },
        {
         "marker": {
          "color": [
           0,
           1,
           2,
           3,
           4,
           5,
           6,
           7,
           8,
           9,
           10,
           11,
           12,
           13,
           14,
           15,
           16,
           17,
           18,
           19,
           20,
           21,
           22,
           23,
           24,
           25,
           26,
           27,
           28,
           29,
           30,
           31,
           32,
           33,
           34,
           35,
           36,
           37,
           38,
           39,
           40,
           41,
           42,
           43,
           44,
           45,
           46,
           47,
           48,
           49
          ],
          "colorbar": {
           "title": {
            "text": "Trial"
           },
           "x": 1.0,
           "xpad": 40
          },
          "colorscale": [
           [
            0.0,
            "rgb(247,251,255)"
           ],
           [
            0.125,
            "rgb(222,235,247)"
           ],
           [
            0.25,
            "rgb(198,219,239)"
           ],
           [
            0.375,
            "rgb(158,202,225)"
           ],
           [
            0.5,
            "rgb(107,174,214)"
           ],
           [
            0.625,
            "rgb(66,146,198)"
           ],
           [
            0.75,
            "rgb(33,113,181)"
           ],
           [
            0.875,
            "rgb(8,81,156)"
           ],
           [
            1.0,
            "rgb(8,48,107)"
           ]
          ],
          "line": {
           "color": "Grey",
           "width": 0.5
          },
          "showscale": false
         },
         "mode": "markers",
         "name": "Feasible Trial",
         "showlegend": false,
         "x": [
          0.3140630738927041,
          0.9337181446162124,
          0.1391278052352585,
          0.7625684733865777,
          0.14764331251693824,
          0.2787873672462198,
          0.3586483012522431,
          0.25024499145451806,
          0.7320482199867311,
          0.22451341361463628,
          0.45722133379677676,
          0.570120258772159,
          0.9808838641939704,
          0.40449488859694266,
          0.19454296566962723,
          0.5679540725841875,
          0.3245251059796761,
          0.17842727448257117,
          0.4946702445785493,
          0.10724326083090692,
          0.9409861522566814,
          0.71494250789418,
          0.7223227639442175,
          0.8602142707531304,
          0.5867207596318486,
          0.798298239937235,
          0.3919719332020057,
          0.291815516075975,
          0.6223827291565202,
          0.4609710442687467,
          0.6537895090185897,
          0.2982114450092179,
          0.26228607693684713,
          0.34539272334043414,
          0.20912432287381932,
          0.2669571636964194,
          0.1579578932420213,
          0.23433871267497147,
          0.39778363841077136,
          0.8472650993134132,
          0.5112935921380355,
          0.3584054500973072,
          0.13405143082958096,
          0.9918243285425447,
          0.23264569407704597,
          0.3103081764289005,
          0.2733293255900088,
          0.43307222027345477,
          0.3556207150664523,
          0.17825293651568486
         ],
         "y": [
          -4.091841615261904,
          -4.091841615261904,
          -4.091841615261903,
          -4.091841615261904,
          -4.091841615261903,
          -4.091841615261904,
          -4.091841615261904,
          -4.091841615261904,
          -4.09184161518937,
          -4.091841615261904,
          -4.091841615261904,
          -4.091841615261904,
          -4.091841615261904,
          -4.091841615261904,
          -4.091841615261904,
          -4.091841615261904,
          -4.09184161518937,
          -4.091841615261904,
          -4.091841615261904,
          -4.091841615261903,
          -4.091841615261904,
          -4.091841615261904,
          -4.091841615261904,
          -4.091841615261904,
          -4.091841615261904,
          -4.091841615261904,
          -4.091841615261904,
          -4.091841615261904,
          -4.091841615261904,
          -4.091841615261904,
          -4.091841615261904,
          -4.091841615261904,
          -4.091841615261904,
          -4.091841615261904,
          -4.091841615261904,
          -4.091841615261904,
          -4.091841615261904,
          -4.091841615261904,
          -4.091841615261904,
          -4.091841615261904,
          -4.09184161518937,
          -4.091841615261904,
          -4.091841615261903,
          -4.091841615261904,
          -4.091841615261904,
          -4.091841615261904,
          -4.091841615261904,
          -4.091841615261904,
          -4.091841615261904,
          -4.091841615261904
         ],
         "type": "scatter",
         "xaxis": "x2",
         "yaxis": "y2"
        },
        {
         "marker": {
          "color": [
           0,
           1,
           2,
           3,
           4,
           5,
           6,
           7,
           8,
           9,
           10,
           11,
           12,
           13,
           14,
           15,
           16,
           17,
           18,
           19,
           20,
           21,
           22,
           23,
           24,
           25,
           26,
           27,
           28,
           29,
           30,
           31,
           32,
           33,
           34,
           35,
           36,
           37,
           38,
           39,
           40,
           41,
           42,
           43,
           44,
           45,
           46,
           47,
           48,
           49
          ],
          "colorbar": {
           "title": {
            "text": "Trial"
           },
           "x": 1.0,
           "xpad": 40
          },
          "colorscale": [
           [
            0.0,
            "rgb(247,251,255)"
           ],
           [
            0.125,
            "rgb(222,235,247)"
           ],
           [
            0.25,
            "rgb(198,219,239)"
           ],
           [
            0.375,
            "rgb(158,202,225)"
           ],
           [
            0.5,
            "rgb(107,174,214)"
           ],
           [
            0.625,
            "rgb(66,146,198)"
           ],
           [
            0.75,
            "rgb(33,113,181)"
           ],
           [
            0.875,
            "rgb(8,81,156)"
           ],
           [
            1.0,
            "rgb(8,48,107)"
           ]
          ],
          "line": {
           "color": "Grey",
           "width": 0.5
          },
          "showscale": false
         },
         "mode": "markers",
         "name": "Feasible Trial",
         "showlegend": false,
         "x": [
          337,
          344,
          324,
          461,
          322,
          378,
          462,
          68,
          53,
          143,
          224,
          241,
          387,
          385,
          280,
          187,
          318,
          416,
          278,
          347,
          443,
          499,
          468,
          420,
          367,
          496,
          295,
          221,
          415,
          343,
          174,
          374,
          312,
          342,
          463,
          404,
          444,
          367,
          260,
          304,
          330,
          445,
          475,
          388,
          76,
          429,
          403,
          363,
          479,
          399
         ],
         "y": [
          -4.091841615261904,
          -4.091841615261904,
          -4.091841615261903,
          -4.091841615261904,
          -4.091841615261903,
          -4.091841615261904,
          -4.091841615261904,
          -4.091841615261904,
          -4.09184161518937,
          -4.091841615261904,
          -4.091841615261904,
          -4.091841615261904,
          -4.091841615261904,
          -4.091841615261904,
          -4.091841615261904,
          -4.091841615261904,
          -4.09184161518937,
          -4.091841615261904,
          -4.091841615261904,
          -4.091841615261903,
          -4.091841615261904,
          -4.091841615261904,
          -4.091841615261904,
          -4.091841615261904,
          -4.091841615261904,
          -4.091841615261904,
          -4.091841615261904,
          -4.091841615261904,
          -4.091841615261904,
          -4.091841615261904,
          -4.091841615261904,
          -4.091841615261904,
          -4.091841615261904,
          -4.091841615261904,
          -4.091841615261904,
          -4.091841615261904,
          -4.091841615261904,
          -4.091841615261904,
          -4.091841615261904,
          -4.091841615261904,
          -4.09184161518937,
          -4.091841615261904,
          -4.091841615261903,
          -4.091841615261904,
          -4.091841615261904,
          -4.091841615261904,
          -4.091841615261904,
          -4.091841615261904,
          -4.091841615261904,
          -4.091841615261904
         ],
         "type": "scatter",
         "xaxis": "x3",
         "yaxis": "y3"
        },
        {
         "marker": {
          "color": [
           0,
           1,
           2,
           3,
           4,
           5,
           6,
           7,
           8,
           9,
           10,
           11,
           12,
           13,
           14,
           15,
           16,
           17,
           18,
           19,
           20,
           21,
           22,
           23,
           24,
           25,
           26,
           27,
           28,
           29,
           30,
           31,
           32,
           33,
           34,
           35,
           36,
           37,
           38,
           39,
           40,
           41,
           42,
           43,
           44,
           45,
           46,
           47,
           48,
           49
          ],
          "colorbar": {
           "title": {
            "text": "Trial"
           },
           "x": 1.0,
           "xpad": 40
          },
          "colorscale": [
           [
            0.0,
            "rgb(247,251,255)"
           ],
           [
            0.125,
            "rgb(222,235,247)"
           ],
           [
            0.25,
            "rgb(198,219,239)"
           ],
           [
            0.375,
            "rgb(158,202,225)"
           ],
           [
            0.5,
            "rgb(107,174,214)"
           ],
           [
            0.625,
            "rgb(66,146,198)"
           ],
           [
            0.75,
            "rgb(33,113,181)"
           ],
           [
            0.875,
            "rgb(8,81,156)"
           ],
           [
            1.0,
            "rgb(8,48,107)"
           ]
          ],
          "line": {
           "color": "Grey",
           "width": 0.5
          },
          "showscale": false
         },
         "mode": "markers",
         "name": "Feasible Trial",
         "showlegend": false,
         "x": [
          3.3786862503145984E-6,
          7.584487446622476E-8,
          3.192767193924603E-7,
          1.5020137983388111E-5,
          1.1109035260893136E-5,
          2.2050796605318885E-8,
          1.7915720447857753E-6,
          3.982456748752715E-6,
          7.955918814876062E-5,
          2.1248924209873174E-8,
          5.106544017175873E-7,
          1.751362804723313E-7,
          9.874794503360258E-8,
          6.189429747961101E-8,
          1.322760012779231E-6,
          5.981284407583001E-6,
          4.853333203921292E-5,
          7.900295240237955E-7,
          1.3099581432553113E-8,
          2.718384142816633E-6,
          8.504653304809957E-8,
          1.1448549780750855E-5,
          3.1397076953356235E-5,
          1.1115597721844585E-5,
          1.9902275180259032E-5,
          5.031424100422641E-6,
          7.041608131959933E-7,
          2.7432211628530985E-7,
          2.1538761395710897E-6,
          1.9660943024488462E-5,
          2.616081940669681E-7,
          4.047688498702253E-8,
          2.24674950416257E-8,
          1.0872588641439795E-8,
          4.6546031700627675E-8,
          1.4121339796690361E-7,
          2.8595695718462672E-8,
          7.587312402217688E-6,
          5.037424758883966E-7,
          3.0684354654305205E-6,
          8.669801289027937E-5,
          1.3430143975094305E-6,
          1.315774732166516E-6,
          1.6521529598259297E-8,
          1.900271920016943E-6,
          4.831277609641231E-6,
          8.222394394780603E-6,
          4.653114994161466E-7,
          3.462733673285602E-6,
          1.6241481542427755E-5
         ],
         "y": [
          -4.091841615261904,
          -4.091841615261904,
          -4.091841615261903,
          -4.091841615261904,
          -4.091841615261903,
          -4.091841615261904,
          -4.091841615261904,
          -4.091841615261904,
          -4.09184161518937,
          -4.091841615261904,
          -4.091841615261904,
          -4.091841615261904,
          -4.091841615261904,
          -4.091841615261904,
          -4.091841615261904,
          -4.091841615261904,
          -4.09184161518937,
          -4.091841615261904,
          -4.091841615261904,
          -4.091841615261903,
          -4.091841615261904,
          -4.091841615261904,
          -4.091841615261904,
          -4.091841615261904,
          -4.091841615261904,
          -4.091841615261904,
          -4.091841615261904,
          -4.091841615261904,
          -4.091841615261904,
          -4.091841615261904,
          -4.091841615261904,
          -4.091841615261904,
          -4.091841615261904,
          -4.091841615261904,
          -4.091841615261904,
          -4.091841615261904,
          -4.091841615261904,
          -4.091841615261904,
          -4.091841615261904,
          -4.091841615261904,
          -4.09184161518937,
          -4.091841615261904,
          -4.091841615261903,
          -4.091841615261904,
          -4.091841615261904,
          -4.091841615261904,
          -4.091841615261904,
          -4.091841615261904,
          -4.091841615261904,
          -4.091841615261904
         ],
         "type": "scatter",
         "xaxis": "x4",
         "yaxis": "y4"
        }
       ],
       "layout": {
        "template": {
         "data": {
          "histogram2dcontour": [
           {
            "type": "histogram2dcontour",
            "colorbar": {
             "outlinewidth": 0,
             "ticks": ""
            },
            "colorscale": [
             [
              0.0,
              "#0d0887"
             ],
             [
              0.1111111111111111,
              "#46039f"
             ],
             [
              0.2222222222222222,
              "#7201a8"
             ],
             [
              0.3333333333333333,
              "#9c179e"
             ],
             [
              0.4444444444444444,
              "#bd3786"
             ],
             [
              0.5555555555555556,
              "#d8576b"
             ],
             [
              0.6666666666666666,
              "#ed7953"
             ],
             [
              0.7777777777777778,
              "#fb9f3a"
             ],
             [
              0.8888888888888888,
              "#fdca26"
             ],
             [
              1.0,
              "#f0f921"
             ]
            ]
           }
          ],
          "choropleth": [
           {
            "type": "choropleth",
            "colorbar": {
             "outlinewidth": 0,
             "ticks": ""
            }
           }
          ],
          "histogram2d": [
           {
            "type": "histogram2d",
            "colorbar": {
             "outlinewidth": 0,
             "ticks": ""
            },
            "colorscale": [
             [
              0.0,
              "#0d0887"
             ],
             [
              0.1111111111111111,
              "#46039f"
             ],
             [
              0.2222222222222222,
              "#7201a8"
             ],
             [
              0.3333333333333333,
              "#9c179e"
             ],
             [
              0.4444444444444444,
              "#bd3786"
             ],
             [
              0.5555555555555556,
              "#d8576b"
             ],
             [
              0.6666666666666666,
              "#ed7953"
             ],
             [
              0.7777777777777778,
              "#fb9f3a"
             ],
             [
              0.8888888888888888,
              "#fdca26"
             ],
             [
              1.0,
              "#f0f921"
             ]
            ]
           }
          ],
          "heatmap": [
           {
            "type": "heatmap",
            "colorbar": {
             "outlinewidth": 0,
             "ticks": ""
            },
            "colorscale": [
             [
              0.0,
              "#0d0887"
             ],
             [
              0.1111111111111111,
              "#46039f"
             ],
             [
              0.2222222222222222,
              "#7201a8"
             ],
             [
              0.3333333333333333,
              "#9c179e"
             ],
             [
              0.4444444444444444,
              "#bd3786"
             ],
             [
              0.5555555555555556,
              "#d8576b"
             ],
             [
              0.6666666666666666,
              "#ed7953"
             ],
             [
              0.7777777777777778,
              "#fb9f3a"
             ],
             [
              0.8888888888888888,
              "#fdca26"
             ],
             [
              1.0,
              "#f0f921"
             ]
            ]
           }
          ],
          "contourcarpet": [
           {
            "type": "contourcarpet",
            "colorbar": {
             "outlinewidth": 0,
             "ticks": ""
            }
           }
          ],
          "contour": [
           {
            "type": "contour",
            "colorbar": {
             "outlinewidth": 0,
             "ticks": ""
            },
            "colorscale": [
             [
              0.0,
              "#0d0887"
             ],
             [
              0.1111111111111111,
              "#46039f"
             ],
             [
              0.2222222222222222,
              "#7201a8"
             ],
             [
              0.3333333333333333,
              "#9c179e"
             ],
             [
              0.4444444444444444,
              "#bd3786"
             ],
             [
              0.5555555555555556,
              "#d8576b"
             ],
             [
              0.6666666666666666,
              "#ed7953"
             ],
             [
              0.7777777777777778,
              "#fb9f3a"
             ],
             [
              0.8888888888888888,
              "#fdca26"
             ],
             [
              1.0,
              "#f0f921"
             ]
            ]
           }
          ],
          "surface": [
           {
            "type": "surface",
            "colorbar": {
             "outlinewidth": 0,
             "ticks": ""
            },
            "colorscale": [
             [
              0.0,
              "#0d0887"
             ],
             [
              0.1111111111111111,
              "#46039f"
             ],
             [
              0.2222222222222222,
              "#7201a8"
             ],
             [
              0.3333333333333333,
              "#9c179e"
             ],
             [
              0.4444444444444444,
              "#bd3786"
             ],
             [
              0.5555555555555556,
              "#d8576b"
             ],
             [
              0.6666666666666666,
              "#ed7953"
             ],
             [
              0.7777777777777778,
              "#fb9f3a"
             ],
             [
              0.8888888888888888,
              "#fdca26"
             ],
             [
              1.0,
              "#f0f921"
             ]
            ]
           }
          ],
          "mesh3d": [
           {
            "type": "mesh3d",
            "colorbar": {
             "outlinewidth": 0,
             "ticks": ""
            }
           }
          ],
          "scatter": [
           {
            "fillpattern": {
             "fillmode": "overlay",
             "size": 10,
             "solidity": 0.2
            },
            "type": "scatter"
           }
          ],
          "parcoords": [
           {
            "type": "parcoords",
            "line": {
             "colorbar": {
              "outlinewidth": 0,
              "ticks": ""
             }
            }
           }
          ],
          "scatterpolargl": [
           {
            "type": "scatterpolargl",
            "marker": {
             "colorbar": {
              "outlinewidth": 0,
              "ticks": ""
             }
            }
           }
          ],
          "bar": [
           {
            "error_x": {
             "color": "#2a3f5f"
            },
            "error_y": {
             "color": "#2a3f5f"
            },
            "marker": {
             "line": {
              "color": "#E5ECF6",
              "width": 0.5
             },
             "pattern": {
              "fillmode": "overlay",
              "size": 10,
              "solidity": 0.2
             }
            },
            "type": "bar"
           }
          ],
          "scattergeo": [
           {
            "type": "scattergeo",
            "marker": {
             "colorbar": {
              "outlinewidth": 0,
              "ticks": ""
             }
            }
           }
          ],
          "scatterpolar": [
           {
            "type": "scatterpolar",
            "marker": {
             "colorbar": {
              "outlinewidth": 0,
              "ticks": ""
             }
            }
           }
          ],
          "histogram": [
           {
            "marker": {
             "pattern": {
              "fillmode": "overlay",
              "size": 10,
              "solidity": 0.2
             }
            },
            "type": "histogram"
           }
          ],
          "scattergl": [
           {
            "type": "scattergl",
            "marker": {
             "colorbar": {
              "outlinewidth": 0,
              "ticks": ""
             }
            }
           }
          ],
          "scatter3d": [
           {
            "type": "scatter3d",
            "line": {
             "colorbar": {
              "outlinewidth": 0,
              "ticks": ""
             }
            },
            "marker": {
             "colorbar": {
              "outlinewidth": 0,
              "ticks": ""
             }
            }
           }
          ],
          "scattermap": [
           {
            "type": "scattermap",
            "marker": {
             "colorbar": {
              "outlinewidth": 0,
              "ticks": ""
             }
            }
           }
          ],
          "scattermapbox": [
           {
            "type": "scattermapbox",
            "marker": {
             "colorbar": {
              "outlinewidth": 0,
              "ticks": ""
             }
            }
           }
          ],
          "scatterternary": [
           {
            "type": "scatterternary",
            "marker": {
             "colorbar": {
              "outlinewidth": 0,
              "ticks": ""
             }
            }
           }
          ],
          "scattercarpet": [
           {
            "type": "scattercarpet",
            "marker": {
             "colorbar": {
              "outlinewidth": 0,
              "ticks": ""
             }
            }
           }
          ],
          "carpet": [
           {
            "aaxis": {
             "endlinecolor": "#2a3f5f",
             "gridcolor": "white",
             "linecolor": "white",
             "minorgridcolor": "white",
             "startlinecolor": "#2a3f5f"
            },
            "baxis": {
             "endlinecolor": "#2a3f5f",
             "gridcolor": "white",
             "linecolor": "white",
             "minorgridcolor": "white",
             "startlinecolor": "#2a3f5f"
            },
            "type": "carpet"
           }
          ],
          "table": [
           {
            "cells": {
             "fill": {
              "color": "#EBF0F8"
             },
             "line": {
              "color": "white"
             }
            },
            "header": {
             "fill": {
              "color": "#C8D4E3"
             },
             "line": {
              "color": "white"
             }
            },
            "type": "table"
           }
          ],
          "barpolar": [
           {
            "marker": {
             "line": {
              "color": "#E5ECF6",
              "width": 0.5
             },
             "pattern": {
              "fillmode": "overlay",
              "size": 10,
              "solidity": 0.2
             }
            },
            "type": "barpolar"
           }
          ],
          "pie": [
           {
            "automargin": true,
            "type": "pie"
           }
          ]
         },
         "layout": {
          "autotypenumbers": "strict",
          "colorway": [
           "#636efa",
           "#EF553B",
           "#00cc96",
           "#ab63fa",
           "#FFA15A",
           "#19d3f3",
           "#FF6692",
           "#B6E880",
           "#FF97FF",
           "#FECB52"
          ],
          "font": {
           "color": "#2a3f5f"
          },
          "hovermode": "closest",
          "hoverlabel": {
           "align": "left"
          },
          "paper_bgcolor": "white",
          "plot_bgcolor": "#E5ECF6",
          "polar": {
           "bgcolor": "#E5ECF6",
           "angularaxis": {
            "gridcolor": "white",
            "linecolor": "white",
            "ticks": ""
           },
           "radialaxis": {
            "gridcolor": "white",
            "linecolor": "white",
            "ticks": ""
           }
          },
          "ternary": {
           "bgcolor": "#E5ECF6",
           "aaxis": {
            "gridcolor": "white",
            "linecolor": "white",
            "ticks": ""
           },
           "baxis": {
            "gridcolor": "white",
            "linecolor": "white",
            "ticks": ""
           },
           "caxis": {
            "gridcolor": "white",
            "linecolor": "white",
            "ticks": ""
           }
          },
          "coloraxis": {
           "colorbar": {
            "outlinewidth": 0,
            "ticks": ""
           }
          },
          "colorscale": {
           "sequential": [
            [
             0.0,
             "#0d0887"
            ],
            [
             0.1111111111111111,
             "#46039f"
            ],
            [
             0.2222222222222222,
             "#7201a8"
            ],
            [
             0.3333333333333333,
             "#9c179e"
            ],
            [
             0.4444444444444444,
             "#bd3786"
            ],
            [
             0.5555555555555556,
             "#d8576b"
            ],
            [
             0.6666666666666666,
             "#ed7953"
            ],
            [
             0.7777777777777778,
             "#fb9f3a"
            ],
            [
             0.8888888888888888,
             "#fdca26"
            ],
            [
             1.0,
             "#f0f921"
            ]
           ],
           "sequentialminus": [
            [
             0.0,
             "#0d0887"
            ],
            [
             0.1111111111111111,
             "#46039f"
            ],
            [
             0.2222222222222222,
             "#7201a8"
            ],
            [
             0.3333333333333333,
             "#9c179e"
            ],
            [
             0.4444444444444444,
             "#bd3786"
            ],
            [
             0.5555555555555556,
             "#d8576b"
            ],
            [
             0.6666666666666666,
             "#ed7953"
            ],
            [
             0.7777777777777778,
             "#fb9f3a"
            ],
            [
             0.8888888888888888,
             "#fdca26"
            ],
            [
             1.0,
             "#f0f921"
            ]
           ],
           "diverging": [
            [
             0,
             "#8e0152"
            ],
            [
             0.1,
             "#c51b7d"
            ],
            [
             0.2,
             "#de77ae"
            ],
            [
             0.3,
             "#f1b6da"
            ],
            [
             0.4,
             "#fde0ef"
            ],
            [
             0.5,
             "#f7f7f7"
            ],
            [
             0.6,
             "#e6f5d0"
            ],
            [
             0.7,
             "#b8e186"
            ],
            [
             0.8,
             "#7fbc41"
            ],
            [
             0.9,
             "#4d9221"
            ],
            [
             1,
             "#276419"
            ]
           ]
          },
          "xaxis": {
           "gridcolor": "white",
           "linecolor": "white",
           "ticks": "",
           "title": {
            "standoff": 15
           },
           "zerolinecolor": "white",
           "automargin": true,
           "zerolinewidth": 2
          },
          "yaxis": {
           "gridcolor": "white",
           "linecolor": "white",
           "ticks": "",
           "title": {
            "standoff": 15
           },
           "zerolinecolor": "white",
           "automargin": true,
           "zerolinewidth": 2
          },
          "scene": {
           "xaxis": {
            "backgroundcolor": "#E5ECF6",
            "gridcolor": "white",
            "linecolor": "white",
            "showbackground": true,
            "ticks": "",
            "zerolinecolor": "white",
            "gridwidth": 2
           },
           "yaxis": {
            "backgroundcolor": "#E5ECF6",
            "gridcolor": "white",
            "linecolor": "white",
            "showbackground": true,
            "ticks": "",
            "zerolinecolor": "white",
            "gridwidth": 2
           },
           "zaxis": {
            "backgroundcolor": "#E5ECF6",
            "gridcolor": "white",
            "linecolor": "white",
            "showbackground": true,
            "ticks": "",
            "zerolinecolor": "white",
            "gridwidth": 2
           }
          },
          "shapedefaults": {
           "line": {
            "color": "#2a3f5f"
           }
          },
          "annotationdefaults": {
           "arrowcolor": "#2a3f5f",
           "arrowhead": 0,
           "arrowwidth": 1
          },
          "geo": {
           "bgcolor": "white",
           "landcolor": "#E5ECF6",
           "subunitcolor": "white",
           "showland": true,
           "showlakes": true,
           "lakecolor": "white"
          },
          "title": {
           "x": 0.05
          },
          "mapbox": {
           "style": "light"
          }
         }
        },
        "xaxis": {
         "anchor": "y",
         "domain": [
          0.0,
          0.2125
         ],
         "title": {
          "text": "c1"
         },
         "type": "log"
        },
        "yaxis": {
         "anchor": "x",
         "domain": [
          0.0,
          1.0
         ],
         "title": {
          "text": "Objective Value"
         }
        },
        "xaxis2": {
         "anchor": "y2",
         "domain": [
          0.2625,
          0.475
         ],
         "title": {
          "text": "c2"
         },
         "type": "log"
        },
        "yaxis2": {
         "anchor": "x2",
         "domain": [
          0.0,
          1.0
         ],
         "matches": "y",
         "showticklabels": false
        },
        "xaxis3": {
         "anchor": "y3",
         "domain": [
          0.525,
          0.7375
         ],
         "title": {
          "text": "max_iter"
         }
        },
        "yaxis3": {
         "anchor": "x3",
         "domain": [
          0.0,
          1.0
         ],
         "matches": "y",
         "showticklabels": false
        },
        "xaxis4": {
         "anchor": "y4",
         "domain": [
          0.7875,
          1.0
         ],
         "title": {
          "text": "tol"
         },
         "type": "log"
        },
        "yaxis4": {
         "anchor": "x4",
         "domain": [
          0.0,
          1.0
         ],
         "matches": "y",
         "showticklabels": false
        },
        "title": {
         "text": "Slice Plot"
        },
        "width": 1200
       },
       "config": {
        "plotlyServerURL": "https://plot.ly"
       }
      }
     },
     "metadata": {},
     "output_type": "display_data"
    },
    {
     "data": {
      "application/vnd.plotly.v1+json": {
       "data": [
        {
         "mode": "markers",
         "name": "Objective Value",
         "x": [
          0,
          1,
          2,
          3,
          4,
          5,
          6,
          7,
          8,
          9,
          10,
          11,
          12,
          13,
          14,
          15,
          16,
          17,
          18,
          19,
          20,
          21,
          22,
          23,
          24,
          25,
          26,
          27,
          28,
          29,
          30,
          31,
          32,
          33,
          34,
          35,
          36,
          37,
          38,
          39,
          40,
          41,
          42,
          43,
          44,
          45,
          46,
          47,
          48,
          49
         ],
         "y": [
          7.056643705513247E-21,
          1.2739668901125236E-19,
          2.1447645151672722E-23,
          6.664509739857512E-17,
          8.792648310783776E-19,
          3.526687385660612E-23,
          9.638965818788714E-17,
          1.0214143767856424E-20,
          1.7601800898435856E-20,
          2.890511414587935E-12,
          1.505700384637271E-18,
          1.0214143767856424E-20,
          2.405207554590406E-21,
          8.885965611868003E-16,
          9.491081294134929E-18,
          8.792648310783776E-19,
          6.664509739857512E-17,
          3.899794088138148E-15,
          1.2216497193478894E-23,
          1.6747825585567627E-18,
          5.717650468321132E-21,
          8.61692242650616E-19,
          3.526687385660612E-23,
          8.61692242650616E-19,
          9.484502715977738E-15,
          9.638965818788714E-17,
          3.526687385660612E-23,
          2.0201804907846337E-20,
          3.1785352468730114E-19,
          6.664509739857512E-17,
          9.638965818788714E-17,
          3.526687385660612E-23,
          3.77475624918924E-23,
          1.0214143767856424E-20,
          3.77475624918924E-23,
          9.484502715977738E-15,
          1.770463937062727E-22,
          9.638965818788714E-17,
          8.792648310783776E-19,
          1.0214143767856424E-20,
          5.717650468321132E-21,
          3.77475624918924E-23,
          1.0474330772502306E-19,
          3.526687385660612E-23,
          1.0214143767856424E-20,
          1.2216497193478894E-23,
          8.61692242650616E-19,
          8.61692242650616E-19,
          9.484502715977738E-15,
          2.1447645151672722E-23
         ],
         "type": "scatter"
        },
        {
         "mode": "lines",
         "name": "Best Value",
         "x": [
          0,
          1,
          2,
          3,
          4,
          5,
          6,
          7,
          8,
          9,
          10,
          11,
          12,
          13,
          14,
          15,
          16,
          17,
          18,
          19,
          20,
          21,
          22,
          23,
          24,
          25,
          26,
          27,
          28,
          29,
          30,
          31,
          32,
          33,
          34,
          35,
          36,
          37,
          38,
          39,
          40,
          41,
          42,
          43,
          44,
          45,
          46,
          47,
          48,
          49
         ],
         "y": [
          7.056643705513247E-21,
          7.056643705513247E-21,
          2.1447645151672722E-23,
          2.1447645151672722E-23,
          2.1447645151672722E-23,
          2.1447645151672722E-23,
          2.1447645151672722E-23,
          2.1447645151672722E-23,
          2.1447645151672722E-23,
          2.1447645151672722E-23,
          2.1447645151672722E-23,
          2.1447645151672722E-23,
          2.1447645151672722E-23,
          2.1447645151672722E-23,
          2.1447645151672722E-23,
          2.1447645151672722E-23,
          2.1447645151672722E-23,
          2.1447645151672722E-23,
          1.2216497193478894E-23,
          1.2216497193478894E-23,
          1.2216497193478894E-23,
          1.2216497193478894E-23,
          1.2216497193478894E-23,
          1.2216497193478894E-23,
          1.2216497193478894E-23,
          1.2216497193478894E-23,
          1.2216497193478894E-23,
          1.2216497193478894E-23,
          1.2216497193478894E-23,
          1.2216497193478894E-23,
          1.2216497193478894E-23,
          1.2216497193478894E-23,
          1.2216497193478894E-23,
          1.2216497193478894E-23,
          1.2216497193478894E-23,
          1.2216497193478894E-23,
          1.2216497193478894E-23,
          1.2216497193478894E-23,
          1.2216497193478894E-23,
          1.2216497193478894E-23,
          1.2216497193478894E-23,
          1.2216497193478894E-23,
          1.2216497193478894E-23,
          1.2216497193478894E-23,
          1.2216497193478894E-23,
          1.2216497193478894E-23,
          1.2216497193478894E-23,
          1.2216497193478894E-23,
          1.2216497193478894E-23,
          1.2216497193478894E-23
         ],
         "type": "scatter"
        },
        {
         "marker": {
          "color": "#cccccc"
         },
         "mode": "markers",
         "name": "Infeasible Trial",
         "showlegend": false,
         "x": [],
         "y": [],
         "type": "scatter"
        }
       ],
       "layout": {
        "title": {
         "text": "Optimization History Plot"
        },
        "xaxis": {
         "title": {
          "text": "Trial"
         }
        },
        "yaxis": {
         "title": {
          "text": "Objective Value"
         }
        },
        "template": {
         "data": {
          "histogram2dcontour": [
           {
            "type": "histogram2dcontour",
            "colorbar": {
             "outlinewidth": 0,
             "ticks": ""
            },
            "colorscale": [
             [
              0.0,
              "#0d0887"
             ],
             [
              0.1111111111111111,
              "#46039f"
             ],
             [
              0.2222222222222222,
              "#7201a8"
             ],
             [
              0.3333333333333333,
              "#9c179e"
             ],
             [
              0.4444444444444444,
              "#bd3786"
             ],
             [
              0.5555555555555556,
              "#d8576b"
             ],
             [
              0.6666666666666666,
              "#ed7953"
             ],
             [
              0.7777777777777778,
              "#fb9f3a"
             ],
             [
              0.8888888888888888,
              "#fdca26"
             ],
             [
              1.0,
              "#f0f921"
             ]
            ]
           }
          ],
          "choropleth": [
           {
            "type": "choropleth",
            "colorbar": {
             "outlinewidth": 0,
             "ticks": ""
            }
           }
          ],
          "histogram2d": [
           {
            "type": "histogram2d",
            "colorbar": {
             "outlinewidth": 0,
             "ticks": ""
            },
            "colorscale": [
             [
              0.0,
              "#0d0887"
             ],
             [
              0.1111111111111111,
              "#46039f"
             ],
             [
              0.2222222222222222,
              "#7201a8"
             ],
             [
              0.3333333333333333,
              "#9c179e"
             ],
             [
              0.4444444444444444,
              "#bd3786"
             ],
             [
              0.5555555555555556,
              "#d8576b"
             ],
             [
              0.6666666666666666,
              "#ed7953"
             ],
             [
              0.7777777777777778,
              "#fb9f3a"
             ],
             [
              0.8888888888888888,
              "#fdca26"
             ],
             [
              1.0,
              "#f0f921"
             ]
            ]
           }
          ],
          "heatmap": [
           {
            "type": "heatmap",
            "colorbar": {
             "outlinewidth": 0,
             "ticks": ""
            },
            "colorscale": [
             [
              0.0,
              "#0d0887"
             ],
             [
              0.1111111111111111,
              "#46039f"
             ],
             [
              0.2222222222222222,
              "#7201a8"
             ],
             [
              0.3333333333333333,
              "#9c179e"
             ],
             [
              0.4444444444444444,
              "#bd3786"
             ],
             [
              0.5555555555555556,
              "#d8576b"
             ],
             [
              0.6666666666666666,
              "#ed7953"
             ],
             [
              0.7777777777777778,
              "#fb9f3a"
             ],
             [
              0.8888888888888888,
              "#fdca26"
             ],
             [
              1.0,
              "#f0f921"
             ]
            ]
           }
          ],
          "contourcarpet": [
           {
            "type": "contourcarpet",
            "colorbar": {
             "outlinewidth": 0,
             "ticks": ""
            }
           }
          ],
          "contour": [
           {
            "type": "contour",
            "colorbar": {
             "outlinewidth": 0,
             "ticks": ""
            },
            "colorscale": [
             [
              0.0,
              "#0d0887"
             ],
             [
              0.1111111111111111,
              "#46039f"
             ],
             [
              0.2222222222222222,
              "#7201a8"
             ],
             [
              0.3333333333333333,
              "#9c179e"
             ],
             [
              0.4444444444444444,
              "#bd3786"
             ],
             [
              0.5555555555555556,
              "#d8576b"
             ],
             [
              0.6666666666666666,
              "#ed7953"
             ],
             [
              0.7777777777777778,
              "#fb9f3a"
             ],
             [
              0.8888888888888888,
              "#fdca26"
             ],
             [
              1.0,
              "#f0f921"
             ]
            ]
           }
          ],
          "surface": [
           {
            "type": "surface",
            "colorbar": {
             "outlinewidth": 0,
             "ticks": ""
            },
            "colorscale": [
             [
              0.0,
              "#0d0887"
             ],
             [
              0.1111111111111111,
              "#46039f"
             ],
             [
              0.2222222222222222,
              "#7201a8"
             ],
             [
              0.3333333333333333,
              "#9c179e"
             ],
             [
              0.4444444444444444,
              "#bd3786"
             ],
             [
              0.5555555555555556,
              "#d8576b"
             ],
             [
              0.6666666666666666,
              "#ed7953"
             ],
             [
              0.7777777777777778,
              "#fb9f3a"
             ],
             [
              0.8888888888888888,
              "#fdca26"
             ],
             [
              1.0,
              "#f0f921"
             ]
            ]
           }
          ],
          "mesh3d": [
           {
            "type": "mesh3d",
            "colorbar": {
             "outlinewidth": 0,
             "ticks": ""
            }
           }
          ],
          "scatter": [
           {
            "fillpattern": {
             "fillmode": "overlay",
             "size": 10,
             "solidity": 0.2
            },
            "type": "scatter"
           }
          ],
          "parcoords": [
           {
            "type": "parcoords",
            "line": {
             "colorbar": {
              "outlinewidth": 0,
              "ticks": ""
             }
            }
           }
          ],
          "scatterpolargl": [
           {
            "type": "scatterpolargl",
            "marker": {
             "colorbar": {
              "outlinewidth": 0,
              "ticks": ""
             }
            }
           }
          ],
          "bar": [
           {
            "error_x": {
             "color": "#2a3f5f"
            },
            "error_y": {
             "color": "#2a3f5f"
            },
            "marker": {
             "line": {
              "color": "#E5ECF6",
              "width": 0.5
             },
             "pattern": {
              "fillmode": "overlay",
              "size": 10,
              "solidity": 0.2
             }
            },
            "type": "bar"
           }
          ],
          "scattergeo": [
           {
            "type": "scattergeo",
            "marker": {
             "colorbar": {
              "outlinewidth": 0,
              "ticks": ""
             }
            }
           }
          ],
          "scatterpolar": [
           {
            "type": "scatterpolar",
            "marker": {
             "colorbar": {
              "outlinewidth": 0,
              "ticks": ""
             }
            }
           }
          ],
          "histogram": [
           {
            "marker": {
             "pattern": {
              "fillmode": "overlay",
              "size": 10,
              "solidity": 0.2
             }
            },
            "type": "histogram"
           }
          ],
          "scattergl": [
           {
            "type": "scattergl",
            "marker": {
             "colorbar": {
              "outlinewidth": 0,
              "ticks": ""
             }
            }
           }
          ],
          "scatter3d": [
           {
            "type": "scatter3d",
            "line": {
             "colorbar": {
              "outlinewidth": 0,
              "ticks": ""
             }
            },
            "marker": {
             "colorbar": {
              "outlinewidth": 0,
              "ticks": ""
             }
            }
           }
          ],
          "scattermap": [
           {
            "type": "scattermap",
            "marker": {
             "colorbar": {
              "outlinewidth": 0,
              "ticks": ""
             }
            }
           }
          ],
          "scattermapbox": [
           {
            "type": "scattermapbox",
            "marker": {
             "colorbar": {
              "outlinewidth": 0,
              "ticks": ""
             }
            }
           }
          ],
          "scatterternary": [
           {
            "type": "scatterternary",
            "marker": {
             "colorbar": {
              "outlinewidth": 0,
              "ticks": ""
             }
            }
           }
          ],
          "scattercarpet": [
           {
            "type": "scattercarpet",
            "marker": {
             "colorbar": {
              "outlinewidth": 0,
              "ticks": ""
             }
            }
           }
          ],
          "carpet": [
           {
            "aaxis": {
             "endlinecolor": "#2a3f5f",
             "gridcolor": "white",
             "linecolor": "white",
             "minorgridcolor": "white",
             "startlinecolor": "#2a3f5f"
            },
            "baxis": {
             "endlinecolor": "#2a3f5f",
             "gridcolor": "white",
             "linecolor": "white",
             "minorgridcolor": "white",
             "startlinecolor": "#2a3f5f"
            },
            "type": "carpet"
           }
          ],
          "table": [
           {
            "cells": {
             "fill": {
              "color": "#EBF0F8"
             },
             "line": {
              "color": "white"
             }
            },
            "header": {
             "fill": {
              "color": "#C8D4E3"
             },
             "line": {
              "color": "white"
             }
            },
            "type": "table"
           }
          ],
          "barpolar": [
           {
            "marker": {
             "line": {
              "color": "#E5ECF6",
              "width": 0.5
             },
             "pattern": {
              "fillmode": "overlay",
              "size": 10,
              "solidity": 0.2
             }
            },
            "type": "barpolar"
           }
          ],
          "pie": [
           {
            "automargin": true,
            "type": "pie"
           }
          ]
         },
         "layout": {
          "autotypenumbers": "strict",
          "colorway": [
           "#636efa",
           "#EF553B",
           "#00cc96",
           "#ab63fa",
           "#FFA15A",
           "#19d3f3",
           "#FF6692",
           "#B6E880",
           "#FF97FF",
           "#FECB52"
          ],
          "font": {
           "color": "#2a3f5f"
          },
          "hovermode": "closest",
          "hoverlabel": {
           "align": "left"
          },
          "paper_bgcolor": "white",
          "plot_bgcolor": "#E5ECF6",
          "polar": {
           "bgcolor": "#E5ECF6",
           "angularaxis": {
            "gridcolor": "white",
            "linecolor": "white",
            "ticks": ""
           },
           "radialaxis": {
            "gridcolor": "white",
            "linecolor": "white",
            "ticks": ""
           }
          },
          "ternary": {
           "bgcolor": "#E5ECF6",
           "aaxis": {
            "gridcolor": "white",
            "linecolor": "white",
            "ticks": ""
           },
           "baxis": {
            "gridcolor": "white",
            "linecolor": "white",
            "ticks": ""
           },
           "caxis": {
            "gridcolor": "white",
            "linecolor": "white",
            "ticks": ""
           }
          },
          "coloraxis": {
           "colorbar": {
            "outlinewidth": 0,
            "ticks": ""
           }
          },
          "colorscale": {
           "sequential": [
            [
             0.0,
             "#0d0887"
            ],
            [
             0.1111111111111111,
             "#46039f"
            ],
            [
             0.2222222222222222,
             "#7201a8"
            ],
            [
             0.3333333333333333,
             "#9c179e"
            ],
            [
             0.4444444444444444,
             "#bd3786"
            ],
            [
             0.5555555555555556,
             "#d8576b"
            ],
            [
             0.6666666666666666,
             "#ed7953"
            ],
            [
             0.7777777777777778,
             "#fb9f3a"
            ],
            [
             0.8888888888888888,
             "#fdca26"
            ],
            [
             1.0,
             "#f0f921"
            ]
           ],
           "sequentialminus": [
            [
             0.0,
             "#0d0887"
            ],
            [
             0.1111111111111111,
             "#46039f"
            ],
            [
             0.2222222222222222,
             "#7201a8"
            ],
            [
             0.3333333333333333,
             "#9c179e"
            ],
            [
             0.4444444444444444,
             "#bd3786"
            ],
            [
             0.5555555555555556,
             "#d8576b"
            ],
            [
             0.6666666666666666,
             "#ed7953"
            ],
            [
             0.7777777777777778,
             "#fb9f3a"
            ],
            [
             0.8888888888888888,
             "#fdca26"
            ],
            [
             1.0,
             "#f0f921"
            ]
           ],
           "diverging": [
            [
             0,
             "#8e0152"
            ],
            [
             0.1,
             "#c51b7d"
            ],
            [
             0.2,
             "#de77ae"
            ],
            [
             0.3,
             "#f1b6da"
            ],
            [
             0.4,
             "#fde0ef"
            ],
            [
             0.5,
             "#f7f7f7"
            ],
            [
             0.6,
             "#e6f5d0"
            ],
            [
             0.7,
             "#b8e186"
            ],
            [
             0.8,
             "#7fbc41"
            ],
            [
             0.9,
             "#4d9221"
            ],
            [
             1,
             "#276419"
            ]
           ]
          },
          "xaxis": {
           "gridcolor": "white",
           "linecolor": "white",
           "ticks": "",
           "title": {
            "standoff": 15
           },
           "zerolinecolor": "white",
           "automargin": true,
           "zerolinewidth": 2
          },
          "yaxis": {
           "gridcolor": "white",
           "linecolor": "white",
           "ticks": "",
           "title": {
            "standoff": 15
           },
           "zerolinecolor": "white",
           "automargin": true,
           "zerolinewidth": 2
          },
          "scene": {
           "xaxis": {
            "backgroundcolor": "#E5ECF6",
            "gridcolor": "white",
            "linecolor": "white",
            "showbackground": true,
            "ticks": "",
            "zerolinecolor": "white",
            "gridwidth": 2
           },
           "yaxis": {
            "backgroundcolor": "#E5ECF6",
            "gridcolor": "white",
            "linecolor": "white",
            "showbackground": true,
            "ticks": "",
            "zerolinecolor": "white",
            "gridwidth": 2
           },
           "zaxis": {
            "backgroundcolor": "#E5ECF6",
            "gridcolor": "white",
            "linecolor": "white",
            "showbackground": true,
            "ticks": "",
            "zerolinecolor": "white",
            "gridwidth": 2
           }
          },
          "shapedefaults": {
           "line": {
            "color": "#2a3f5f"
           }
          },
          "annotationdefaults": {
           "arrowcolor": "#2a3f5f",
           "arrowhead": 0,
           "arrowwidth": 1
          },
          "geo": {
           "bgcolor": "white",
           "landcolor": "#E5ECF6",
           "subunitcolor": "white",
           "showland": true,
           "showlakes": true,
           "lakecolor": "white"
          },
          "title": {
           "x": 0.05
          },
          "mapbox": {
           "style": "light"
          }
         }
        }
       },
       "config": {
        "plotlyServerURL": "https://plot.ly"
       }
      }
     },
     "metadata": {},
     "output_type": "display_data"
    },
    {
     "data": {
      "application/vnd.plotly.v1+json": {
       "data": [
        {
         "marker": {
          "color": [
           0,
           1,
           2,
           3,
           4,
           5,
           6,
           7,
           8,
           9,
           10,
           11,
           12,
           13,
           14,
           15,
           16,
           17,
           18,
           19,
           20,
           21,
           22,
           23,
           24,
           25,
           26,
           27,
           28,
           29,
           30,
           31,
           32,
           33,
           34,
           35,
           36,
           37,
           38,
           39,
           40,
           41,
           42,
           43,
           44,
           45,
           46,
           47,
           48,
           49
          ],
          "colorbar": {
           "title": {
            "text": "Trial"
           },
           "x": 1.0,
           "xpad": 40
          },
          "colorscale": [
           [
            0.0,
            "rgb(247,251,255)"
           ],
           [
            0.125,
            "rgb(222,235,247)"
           ],
           [
            0.25,
            "rgb(198,219,239)"
           ],
           [
            0.375,
            "rgb(158,202,225)"
           ],
           [
            0.5,
            "rgb(107,174,214)"
           ],
           [
            0.625,
            "rgb(66,146,198)"
           ],
           [
            0.75,
            "rgb(33,113,181)"
           ],
           [
            0.875,
            "rgb(8,81,156)"
           ],
           [
            1.0,
            "rgb(8,48,107)"
           ]
          ],
          "line": {
           "color": "Grey",
           "width": 0.5
          },
          "showscale": true
         },
         "mode": "markers",
         "name": "Feasible Trial",
         "showlegend": false,
         "x": [
          8.678703499973693E-4,
          1.6590066076810141E-6,
          1.8490771710075366E-6,
          3.316087887403366E-5,
          5.6042401863154354E-6,
          6.3862335443043E-5,
          0.0015600999406024428,
          5.323714706397215E-5,
          5.647763138647206E-4,
          1.1642627238482902E-6,
          0.00958143433866177,
          1.1923620932784598E-5,
          1.2138716919019717E-4,
          6.246391891532933E-6,
          1.0873327888810528E-4,
          1.9931234042562687E-5,
          2.9487778944987806E-4,
          3.5178773910500157E-6,
          0.003233283617063259,
          0.008375470716103265,
          0.0026526273887897364,
          2.2348977456856E-4,
          0.004256910427285476,
          4.982038547802354E-5,
          3.3310404637080306E-4,
          2.5552473433493706E-6,
          1.222041978064862E-5,
          8.490839607728548E-4,
          0.0014961152507626445,
          2.7916278483744323E-5,
          8.078233313263595E-5,
          0.004201217356383914,
          0.004419291716503016,
          0.00236300357619124,
          5.856629640725083E-4,
          0.004501943210519825,
          0.0012620113137437397,
          1.7153775309703879E-4,
          1.078756635482996E-6,
          5.104231949991212E-4,
          0.0025457712617369542,
          1.2843622582051951E-5,
          7.08938246638365E-6,
          3.0309252346066928E-6,
          1.9768662968084762E-6,
          5.541526984994547E-5,
          4.41512451844776E-5,
          6.360306667603525E-5,
          2.3299006768912936E-5,
          0.006523326460747379
         ],
         "y": [
          7.056643705513247E-21,
          1.2739668901125236E-19,
          2.1447645151672722E-23,
          6.664509739857512E-17,
          8.792648310783776E-19,
          3.526687385660612E-23,
          9.638965818788714E-17,
          1.0214143767856424E-20,
          1.7601800898435856E-20,
          2.890511414587935E-12,
          1.505700384637271E-18,
          1.0214143767856424E-20,
          2.405207554590406E-21,
          8.885965611868003E-16,
          9.491081294134929E-18,
          8.792648310783776E-19,
          6.664509739857512E-17,
          3.899794088138148E-15,
          1.2216497193478894E-23,
          1.6747825585567627E-18,
          5.717650468321132E-21,
          8.61692242650616E-19,
          3.526687385660612E-23,
          8.61692242650616E-19,
          9.484502715977738E-15,
          9.638965818788714E-17,
          3.526687385660612E-23,
          2.0201804907846337E-20,
          3.1785352468730114E-19,
          6.664509739857512E-17,
          9.638965818788714E-17,
          3.526687385660612E-23,
          3.77475624918924E-23,
          1.0214143767856424E-20,
          3.77475624918924E-23,
          9.484502715977738E-15,
          1.770463937062727E-22,
          9.638965818788714E-17,
          8.792648310783776E-19,
          1.0214143767856424E-20,
          5.717650468321132E-21,
          3.77475624918924E-23,
          1.0474330772502306E-19,
          3.526687385660612E-23,
          1.0214143767856424E-20,
          1.2216497193478894E-23,
          8.61692242650616E-19,
          8.61692242650616E-19,
          9.484502715977738E-15,
          2.1447645151672722E-23
         ],
         "type": "scatter",
         "xaxis": "x",
         "yaxis": "y"
        },
        {
         "marker": {
          "color": [
           0,
           1,
           2,
           3,
           4,
           5,
           6,
           7,
           8,
           9,
           10,
           11,
           12,
           13,
           14,
           15,
           16,
           17,
           18,
           19,
           20,
           21,
           22,
           23,
           24,
           25,
           26,
           27,
           28,
           29,
           30,
           31,
           32,
           33,
           34,
           35,
           36,
           37,
           38,
           39,
           40,
           41,
           42,
           43,
           44,
           45,
           46,
           47,
           48,
           49
          ],
          "colorbar": {
           "title": {
            "text": "Trial"
           },
           "x": 1.0,
           "xpad": 40
          },
          "colorscale": [
           [
            0.0,
            "rgb(247,251,255)"
           ],
           [
            0.125,
            "rgb(222,235,247)"
           ],
           [
            0.25,
            "rgb(198,219,239)"
           ],
           [
            0.375,
            "rgb(158,202,225)"
           ],
           [
            0.5,
            "rgb(107,174,214)"
           ],
           [
            0.625,
            "rgb(66,146,198)"
           ],
           [
            0.75,
            "rgb(33,113,181)"
           ],
           [
            0.875,
            "rgb(8,81,156)"
           ],
           [
            1.0,
            "rgb(8,48,107)"
           ]
          ],
          "line": {
           "color": "Grey",
           "width": 0.5
          },
          "showscale": false
         },
         "mode": "markers",
         "name": "Feasible Trial",
         "showlegend": false,
         "x": [
          0.6483406606929629,
          0.2569222118463843,
          0.4984743094935654,
          0.8446909219427764,
          0.16994702763558195,
          0.14732126120686706,
          0.202690462650998,
          0.11983741228918342,
          0.32770047873784225,
          0.21176402663273525,
          0.4390540667971957,
          0.11659144587512557,
          0.4703252438432434,
          0.39330033720534174,
          0.590780217643651,
          0.1508108420609762,
          0.8668250706606683,
          0.2617254943825589,
          0.10146412947959704,
          0.6246364511842081,
          0.2986575605299442,
          0.10109233080022001,
          0.14905585819870154,
          0.1008059826768498,
          0.12814456334690785,
          0.19539912909912088,
          0.14801860358314667,
          0.37569650278312855,
          0.5186892656065796,
          0.7590888894878407,
          0.24563204463911825,
          0.14137990546257295,
          0.1669206469034778,
          0.11507158098510246,
          0.1737551492840583,
          0.13497512676322462,
          0.9942826166107968,
          0.23768340203871224,
          0.17401088346822258,
          0.11588992353579036,
          0.2997403081317554,
          0.16056426534276702,
          0.1981991401403733,
          0.1461735661790395,
          0.12565057417109693,
          0.1089720724089297,
          0.1091723234686507,
          0.10761622539550508,
          0.12883252448221028,
          0.5067156729074737
         ],
         "y": [
          7.056643705513247E-21,
          1.2739668901125236E-19,
          2.1447645151672722E-23,
          6.664509739857512E-17,
          8.792648310783776E-19,
          3.526687385660612E-23,
          9.638965818788714E-17,
          1.0214143767856424E-20,
          1.7601800898435856E-20,
          2.890511414587935E-12,
          1.505700384637271E-18,
          1.0214143767856424E-20,
          2.405207554590406E-21,
          8.885965611868003E-16,
          9.491081294134929E-18,
          8.792648310783776E-19,
          6.664509739857512E-17,
          3.899794088138148E-15,
          1.2216497193478894E-23,
          1.6747825585567627E-18,
          5.717650468321132E-21,
          8.61692242650616E-19,
          3.526687385660612E-23,
          8.61692242650616E-19,
          9.484502715977738E-15,
          9.638965818788714E-17,
          3.526687385660612E-23,
          2.0201804907846337E-20,
          3.1785352468730114E-19,
          6.664509739857512E-17,
          9.638965818788714E-17,
          3.526687385660612E-23,
          3.77475624918924E-23,
          1.0214143767856424E-20,
          3.77475624918924E-23,
          9.484502715977738E-15,
          1.770463937062727E-22,
          9.638965818788714E-17,
          8.792648310783776E-19,
          1.0214143767856424E-20,
          5.717650468321132E-21,
          3.77475624918924E-23,
          1.0474330772502306E-19,
          3.526687385660612E-23,
          1.0214143767856424E-20,
          1.2216497193478894E-23,
          8.61692242650616E-19,
          8.61692242650616E-19,
          9.484502715977738E-15,
          2.1447645151672722E-23
         ],
         "type": "scatter",
         "xaxis": "x2",
         "yaxis": "y2"
        },
        {
         "marker": {
          "color": [
           0,
           1,
           2,
           3,
           4,
           5,
           6,
           7,
           8,
           9,
           10,
           11,
           12,
           13,
           14,
           15,
           16,
           17,
           18,
           19,
           20,
           21,
           22,
           23,
           24,
           25,
           26,
           27,
           28,
           29,
           30,
           31,
           32,
           33,
           34,
           35,
           36,
           37,
           38,
           39,
           40,
           41,
           42,
           43,
           44,
           45,
           46,
           47,
           48,
           49
          ],
          "colorbar": {
           "title": {
            "text": "Trial"
           },
           "x": 1.0,
           "xpad": 40
          },
          "colorscale": [
           [
            0.0,
            "rgb(247,251,255)"
           ],
           [
            0.125,
            "rgb(222,235,247)"
           ],
           [
            0.25,
            "rgb(198,219,239)"
           ],
           [
            0.375,
            "rgb(158,202,225)"
           ],
           [
            0.5,
            "rgb(107,174,214)"
           ],
           [
            0.625,
            "rgb(66,146,198)"
           ],
           [
            0.75,
            "rgb(33,113,181)"
           ],
           [
            0.875,
            "rgb(8,81,156)"
           ],
           [
            1.0,
            "rgb(8,48,107)"
           ]
          ],
          "line": {
           "color": "Grey",
           "width": 0.5
          },
          "showscale": false
         },
         "mode": "markers",
         "name": "Feasible Trial",
         "showlegend": false,
         "x": [
          8.13059213226675E-7,
          7.18144914645411E-8,
          4.9546693742611035E-8,
          1.19744147854333E-7,
          5.70720178229786E-9,
          2.6934076009319564E-9,
          2.008422438371592E-7,
          2.781970576191618E-10,
          1.2724582148052183E-8,
          3.6374904020106206E-9,
          2.3993621106446744E-8,
          7.648097817633158E-10,
          1.493150521731701E-9,
          1.0387796593895632E-10,
          2.9619157203588024E-8,
          5.323389343483896E-7,
          2.0542456773036987E-9,
          4.089801297293077E-8,
          6.051425368459169E-10,
          6.861424760755654E-10,
          9.996345075592014E-9,
          2.5686593101975744E-10,
          8.195267083912949E-10,
          3.764601543152283E-9,
          3.0784744587497544E-10,
          1.116811918508947E-8,
          1.979518880554841E-9,
          5.942913423419553E-9,
          1.1792668193479347E-10,
          4.713274756286751E-7,
          5.877298197012403E-8,
          8.502904946600781E-10,
          5.196030135443176E-10,
          1.2408809374205558E-9,
          1.5681535119658409E-7,
          3.343112974053364E-9,
          4.0888927250044713E-10,
          1.8586882843021272E-8,
          1.823357824126762E-10,
          1.0034026276655655E-7,
          5.503313002850535E-9,
          1.5060456790481847E-9,
          2.5945303868245823E-9,
          1.0132576094709299E-9,
          1.931574054562664E-9,
          6.362938378544526E-9,
          7.68446161094981E-9,
          5.434122864898678E-10,
          1.7286253799816334E-8,
          4.010933212457729E-9
         ],
         "y": [
          7.056643705513247E-21,
          1.2739668901125236E-19,
          2.1447645151672722E-23,
          6.664509739857512E-17,
          8.792648310783776E-19,
          3.526687385660612E-23,
          9.638965818788714E-17,
          1.0214143767856424E-20,
          1.7601800898435856E-20,
          2.890511414587935E-12,
          1.505700384637271E-18,
          1.0214143767856424E-20,
          2.405207554590406E-21,
          8.885965611868003E-16,
          9.491081294134929E-18,
          8.792648310783776E-19,
          6.664509739857512E-17,
          3.899794088138148E-15,
          1.2216497193478894E-23,
          1.6747825585567627E-18,
          5.717650468321132E-21,
          8.61692242650616E-19,
          3.526687385660612E-23,
          8.61692242650616E-19,
          9.484502715977738E-15,
          9.638965818788714E-17,
          3.526687385660612E-23,
          2.0201804907846337E-20,
          3.1785352468730114E-19,
          6.664509739857512E-17,
          9.638965818788714E-17,
          3.526687385660612E-23,
          3.77475624918924E-23,
          1.0214143767856424E-20,
          3.77475624918924E-23,
          9.484502715977738E-15,
          1.770463937062727E-22,
          9.638965818788714E-17,
          8.792648310783776E-19,
          1.0214143767856424E-20,
          5.717650468321132E-21,
          3.77475624918924E-23,
          1.0474330772502306E-19,
          3.526687385660612E-23,
          1.0214143767856424E-20,
          1.2216497193478894E-23,
          8.61692242650616E-19,
          8.61692242650616E-19,
          9.484502715977738E-15,
          2.1447645151672722E-23
         ],
         "type": "scatter",
         "xaxis": "x3",
         "yaxis": "y3"
        },
        {
         "marker": {
          "color": [
           0,
           1,
           2,
           3,
           4,
           5,
           6,
           7,
           8,
           9,
           10,
           11,
           12,
           13,
           14,
           15,
           16,
           17,
           18,
           19,
           20,
           21,
           22,
           23,
           24,
           25,
           26,
           27,
           28,
           29,
           30,
           31,
           32,
           33,
           34,
           35,
           36,
           37,
           38,
           39,
           40,
           41,
           42,
           43,
           44,
           45,
           46,
           47,
           48,
           49
          ],
          "colorbar": {
           "title": {
            "text": "Trial"
           },
           "x": 1.0,
           "xpad": 40
          },
          "colorscale": [
           [
            0.0,
            "rgb(247,251,255)"
           ],
           [
            0.125,
            "rgb(222,235,247)"
           ],
           [
            0.25,
            "rgb(198,219,239)"
           ],
           [
            0.375,
            "rgb(158,202,225)"
           ],
           [
            0.5,
            "rgb(107,174,214)"
           ],
           [
            0.625,
            "rgb(66,146,198)"
           ],
           [
            0.75,
            "rgb(33,113,181)"
           ],
           [
            0.875,
            "rgb(8,81,156)"
           ],
           [
            1.0,
            "rgb(8,48,107)"
           ]
          ],
          "line": {
           "color": "Grey",
           "width": 0.5
          },
          "showscale": false
         },
         "mode": "markers",
         "name": "Feasible Trial",
         "showlegend": false,
         "x": [
          866,
          532,
          585,
          603,
          371,
          703,
          237,
          972,
          188,
          483,
          758,
          699,
          718,
          401,
          593,
          815,
          923,
          678,
          441,
          305,
          470,
          624,
          112,
          419,
          559,
          771,
          325,
          483,
          673,
          859,
          514,
          125,
          250,
          109,
          622,
          566,
          158,
          337,
          438,
          201,
          282,
          376,
          349,
          518,
          235,
          653,
          746,
          810,
          648,
          721
         ],
         "y": [
          7.056643705513247E-21,
          1.2739668901125236E-19,
          2.1447645151672722E-23,
          6.664509739857512E-17,
          8.792648310783776E-19,
          3.526687385660612E-23,
          9.638965818788714E-17,
          1.0214143767856424E-20,
          1.7601800898435856E-20,
          2.890511414587935E-12,
          1.505700384637271E-18,
          1.0214143767856424E-20,
          2.405207554590406E-21,
          8.885965611868003E-16,
          9.491081294134929E-18,
          8.792648310783776E-19,
          6.664509739857512E-17,
          3.899794088138148E-15,
          1.2216497193478894E-23,
          1.6747825585567627E-18,
          5.717650468321132E-21,
          8.61692242650616E-19,
          3.526687385660612E-23,
          8.61692242650616E-19,
          9.484502715977738E-15,
          9.638965818788714E-17,
          3.526687385660612E-23,
          2.0201804907846337E-20,
          3.1785352468730114E-19,
          6.664509739857512E-17,
          9.638965818788714E-17,
          3.526687385660612E-23,
          3.77475624918924E-23,
          1.0214143767856424E-20,
          3.77475624918924E-23,
          9.484502715977738E-15,
          1.770463937062727E-22,
          9.638965818788714E-17,
          8.792648310783776E-19,
          1.0214143767856424E-20,
          5.717650468321132E-21,
          3.77475624918924E-23,
          1.0474330772502306E-19,
          3.526687385660612E-23,
          1.0214143767856424E-20,
          1.2216497193478894E-23,
          8.61692242650616E-19,
          8.61692242650616E-19,
          9.484502715977738E-15,
          2.1447645151672722E-23
         ],
         "type": "scatter",
         "xaxis": "x4",
         "yaxis": "y4"
        },
        {
         "marker": {
          "color": [
           0,
           1,
           2,
           3,
           4,
           5,
           6,
           7,
           8,
           9,
           10,
           11,
           12,
           13,
           14,
           15,
           16,
           17,
           18,
           19,
           20,
           21,
           22,
           23,
           24,
           25,
           26,
           27,
           28,
           29,
           30,
           31,
           32,
           33,
           34,
           35,
           36,
           37,
           38,
           39,
           40,
           41,
           42,
           43,
           44,
           45,
           46,
           47,
           48,
           49
          ],
          "colorbar": {
           "title": {
            "text": "Trial"
           },
           "x": 1.0,
           "xpad": 40
          },
          "colorscale": [
           [
            0.0,
            "rgb(247,251,255)"
           ],
           [
            0.125,
            "rgb(222,235,247)"
           ],
           [
            0.25,
            "rgb(198,219,239)"
           ],
           [
            0.375,
            "rgb(158,202,225)"
           ],
           [
            0.5,
            "rgb(107,174,214)"
           ],
           [
            0.625,
            "rgb(66,146,198)"
           ],
           [
            0.75,
            "rgb(33,113,181)"
           ],
           [
            0.875,
            "rgb(8,81,156)"
           ],
           [
            1.0,
            "rgb(8,48,107)"
           ]
          ],
          "line": {
           "color": "Grey",
           "width": 0.5
          },
          "showscale": false
         },
         "mode": "markers",
         "name": "Feasible Trial",
         "showlegend": false,
         "x": [
          9.604003560442475E-6,
          2.1795086790903557E-8,
          1.6584124359971365E-8,
          1.5511376823448948E-5,
          5.169211982521646E-8,
          7.326014209472514E-7,
          3.1691917219897966E-6,
          5.32283061441617E-7,
          8.275833140090584E-7,
          6.969460694665658E-5,
          9.555603614385766E-8,
          1.100917540339398E-8,
          1.7587351696889152E-7,
          3.016721756052043E-7,
          4.127956064812518E-6,
          4.1932492875290746E-8,
          1.9517794583624313E-6,
          3.7378946956024595E-5,
          1.1910636518050363E-8,
          1.2589472426568642E-8,
          3.263088237864872E-8,
          1.366654105052047E-7,
          5.794012276571518E-8,
          1.9033396750449426E-8,
          3.278125964652474E-7,
          1.4007878233624826E-6,
          1.0484040945400818E-8,
          9.190200869683075E-8,
          2.5993000773474833E-8,
          1.2416745422356307E-5,
          5.9682084560845585E-6,
          5.371784046271045E-8,
          1.9856837080491713E-8,
          6.943962362112746E-8,
          1.8121532385626226E-8,
          1.8003604669194637E-7,
          3.6195880843939646E-8,
          7.825319272985909E-7,
          4.078324394694213E-7,
          6.69011879938732E-8,
          1.5107888374020437E-8,
          1.046524252091725E-8,
          2.6040359288848732E-8,
          1.0063663197161851E-8,
          3.0756915456491094E-8,
          1.594832008161318E-8,
          1.1135258917643215E-7,
          5.499447799155894E-8,
          2.044169001982964E-5,
          1.5836805612928276E-8
         ],
         "y": [
          7.056643705513247E-21,
          1.2739668901125236E-19,
          2.1447645151672722E-23,
          6.664509739857512E-17,
          8.792648310783776E-19,
          3.526687385660612E-23,
          9.638965818788714E-17,
          1.0214143767856424E-20,
          1.7601800898435856E-20,
          2.890511414587935E-12,
          1.505700384637271E-18,
          1.0214143767856424E-20,
          2.405207554590406E-21,
          8.885965611868003E-16,
          9.491081294134929E-18,
          8.792648310783776E-19,
          6.664509739857512E-17,
          3.899794088138148E-15,
          1.2216497193478894E-23,
          1.6747825585567627E-18,
          5.717650468321132E-21,
          8.61692242650616E-19,
          3.526687385660612E-23,
          8.61692242650616E-19,
          9.484502715977738E-15,
          9.638965818788714E-17,
          3.526687385660612E-23,
          2.0201804907846337E-20,
          3.1785352468730114E-19,
          6.664509739857512E-17,
          9.638965818788714E-17,
          3.526687385660612E-23,
          3.77475624918924E-23,
          1.0214143767856424E-20,
          3.77475624918924E-23,
          9.484502715977738E-15,
          1.770463937062727E-22,
          9.638965818788714E-17,
          8.792648310783776E-19,
          1.0214143767856424E-20,
          5.717650468321132E-21,
          3.77475624918924E-23,
          1.0474330772502306E-19,
          3.526687385660612E-23,
          1.0214143767856424E-20,
          1.2216497193478894E-23,
          8.61692242650616E-19,
          8.61692242650616E-19,
          9.484502715977738E-15,
          2.1447645151672722E-23
         ],
         "type": "scatter",
         "xaxis": "x5",
         "yaxis": "y5"
        }
       ],
       "layout": {
        "template": {
         "data": {
          "histogram2dcontour": [
           {
            "type": "histogram2dcontour",
            "colorbar": {
             "outlinewidth": 0,
             "ticks": ""
            },
            "colorscale": [
             [
              0.0,
              "#0d0887"
             ],
             [
              0.1111111111111111,
              "#46039f"
             ],
             [
              0.2222222222222222,
              "#7201a8"
             ],
             [
              0.3333333333333333,
              "#9c179e"
             ],
             [
              0.4444444444444444,
              "#bd3786"
             ],
             [
              0.5555555555555556,
              "#d8576b"
             ],
             [
              0.6666666666666666,
              "#ed7953"
             ],
             [
              0.7777777777777778,
              "#fb9f3a"
             ],
             [
              0.8888888888888888,
              "#fdca26"
             ],
             [
              1.0,
              "#f0f921"
             ]
            ]
           }
          ],
          "choropleth": [
           {
            "type": "choropleth",
            "colorbar": {
             "outlinewidth": 0,
             "ticks": ""
            }
           }
          ],
          "histogram2d": [
           {
            "type": "histogram2d",
            "colorbar": {
             "outlinewidth": 0,
             "ticks": ""
            },
            "colorscale": [
             [
              0.0,
              "#0d0887"
             ],
             [
              0.1111111111111111,
              "#46039f"
             ],
             [
              0.2222222222222222,
              "#7201a8"
             ],
             [
              0.3333333333333333,
              "#9c179e"
             ],
             [
              0.4444444444444444,
              "#bd3786"
             ],
             [
              0.5555555555555556,
              "#d8576b"
             ],
             [
              0.6666666666666666,
              "#ed7953"
             ],
             [
              0.7777777777777778,
              "#fb9f3a"
             ],
             [
              0.8888888888888888,
              "#fdca26"
             ],
             [
              1.0,
              "#f0f921"
             ]
            ]
           }
          ],
          "heatmap": [
           {
            "type": "heatmap",
            "colorbar": {
             "outlinewidth": 0,
             "ticks": ""
            },
            "colorscale": [
             [
              0.0,
              "#0d0887"
             ],
             [
              0.1111111111111111,
              "#46039f"
             ],
             [
              0.2222222222222222,
              "#7201a8"
             ],
             [
              0.3333333333333333,
              "#9c179e"
             ],
             [
              0.4444444444444444,
              "#bd3786"
             ],
             [
              0.5555555555555556,
              "#d8576b"
             ],
             [
              0.6666666666666666,
              "#ed7953"
             ],
             [
              0.7777777777777778,
              "#fb9f3a"
             ],
             [
              0.8888888888888888,
              "#fdca26"
             ],
             [
              1.0,
              "#f0f921"
             ]
            ]
           }
          ],
          "contourcarpet": [
           {
            "type": "contourcarpet",
            "colorbar": {
             "outlinewidth": 0,
             "ticks": ""
            }
           }
          ],
          "contour": [
           {
            "type": "contour",
            "colorbar": {
             "outlinewidth": 0,
             "ticks": ""
            },
            "colorscale": [
             [
              0.0,
              "#0d0887"
             ],
             [
              0.1111111111111111,
              "#46039f"
             ],
             [
              0.2222222222222222,
              "#7201a8"
             ],
             [
              0.3333333333333333,
              "#9c179e"
             ],
             [
              0.4444444444444444,
              "#bd3786"
             ],
             [
              0.5555555555555556,
              "#d8576b"
             ],
             [
              0.6666666666666666,
              "#ed7953"
             ],
             [
              0.7777777777777778,
              "#fb9f3a"
             ],
             [
              0.8888888888888888,
              "#fdca26"
             ],
             [
              1.0,
              "#f0f921"
             ]
            ]
           }
          ],
          "surface": [
           {
            "type": "surface",
            "colorbar": {
             "outlinewidth": 0,
             "ticks": ""
            },
            "colorscale": [
             [
              0.0,
              "#0d0887"
             ],
             [
              0.1111111111111111,
              "#46039f"
             ],
             [
              0.2222222222222222,
              "#7201a8"
             ],
             [
              0.3333333333333333,
              "#9c179e"
             ],
             [
              0.4444444444444444,
              "#bd3786"
             ],
             [
              0.5555555555555556,
              "#d8576b"
             ],
             [
              0.6666666666666666,
              "#ed7953"
             ],
             [
              0.7777777777777778,
              "#fb9f3a"
             ],
             [
              0.8888888888888888,
              "#fdca26"
             ],
             [
              1.0,
              "#f0f921"
             ]
            ]
           }
          ],
          "mesh3d": [
           {
            "type": "mesh3d",
            "colorbar": {
             "outlinewidth": 0,
             "ticks": ""
            }
           }
          ],
          "scatter": [
           {
            "fillpattern": {
             "fillmode": "overlay",
             "size": 10,
             "solidity": 0.2
            },
            "type": "scatter"
           }
          ],
          "parcoords": [
           {
            "type": "parcoords",
            "line": {
             "colorbar": {
              "outlinewidth": 0,
              "ticks": ""
             }
            }
           }
          ],
          "scatterpolargl": [
           {
            "type": "scatterpolargl",
            "marker": {
             "colorbar": {
              "outlinewidth": 0,
              "ticks": ""
             }
            }
           }
          ],
          "bar": [
           {
            "error_x": {
             "color": "#2a3f5f"
            },
            "error_y": {
             "color": "#2a3f5f"
            },
            "marker": {
             "line": {
              "color": "#E5ECF6",
              "width": 0.5
             },
             "pattern": {
              "fillmode": "overlay",
              "size": 10,
              "solidity": 0.2
             }
            },
            "type": "bar"
           }
          ],
          "scattergeo": [
           {
            "type": "scattergeo",
            "marker": {
             "colorbar": {
              "outlinewidth": 0,
              "ticks": ""
             }
            }
           }
          ],
          "scatterpolar": [
           {
            "type": "scatterpolar",
            "marker": {
             "colorbar": {
              "outlinewidth": 0,
              "ticks": ""
             }
            }
           }
          ],
          "histogram": [
           {
            "marker": {
             "pattern": {
              "fillmode": "overlay",
              "size": 10,
              "solidity": 0.2
             }
            },
            "type": "histogram"
           }
          ],
          "scattergl": [
           {
            "type": "scattergl",
            "marker": {
             "colorbar": {
              "outlinewidth": 0,
              "ticks": ""
             }
            }
           }
          ],
          "scatter3d": [
           {
            "type": "scatter3d",
            "line": {
             "colorbar": {
              "outlinewidth": 0,
              "ticks": ""
             }
            },
            "marker": {
             "colorbar": {
              "outlinewidth": 0,
              "ticks": ""
             }
            }
           }
          ],
          "scattermap": [
           {
            "type": "scattermap",
            "marker": {
             "colorbar": {
              "outlinewidth": 0,
              "ticks": ""
             }
            }
           }
          ],
          "scattermapbox": [
           {
            "type": "scattermapbox",
            "marker": {
             "colorbar": {
              "outlinewidth": 0,
              "ticks": ""
             }
            }
           }
          ],
          "scatterternary": [
           {
            "type": "scatterternary",
            "marker": {
             "colorbar": {
              "outlinewidth": 0,
              "ticks": ""
             }
            }
           }
          ],
          "scattercarpet": [
           {
            "type": "scattercarpet",
            "marker": {
             "colorbar": {
              "outlinewidth": 0,
              "ticks": ""
             }
            }
           }
          ],
          "carpet": [
           {
            "aaxis": {
             "endlinecolor": "#2a3f5f",
             "gridcolor": "white",
             "linecolor": "white",
             "minorgridcolor": "white",
             "startlinecolor": "#2a3f5f"
            },
            "baxis": {
             "endlinecolor": "#2a3f5f",
             "gridcolor": "white",
             "linecolor": "white",
             "minorgridcolor": "white",
             "startlinecolor": "#2a3f5f"
            },
            "type": "carpet"
           }
          ],
          "table": [
           {
            "cells": {
             "fill": {
              "color": "#EBF0F8"
             },
             "line": {
              "color": "white"
             }
            },
            "header": {
             "fill": {
              "color": "#C8D4E3"
             },
             "line": {
              "color": "white"
             }
            },
            "type": "table"
           }
          ],
          "barpolar": [
           {
            "marker": {
             "line": {
              "color": "#E5ECF6",
              "width": 0.5
             },
             "pattern": {
              "fillmode": "overlay",
              "size": 10,
              "solidity": 0.2
             }
            },
            "type": "barpolar"
           }
          ],
          "pie": [
           {
            "automargin": true,
            "type": "pie"
           }
          ]
         },
         "layout": {
          "autotypenumbers": "strict",
          "colorway": [
           "#636efa",
           "#EF553B",
           "#00cc96",
           "#ab63fa",
           "#FFA15A",
           "#19d3f3",
           "#FF6692",
           "#B6E880",
           "#FF97FF",
           "#FECB52"
          ],
          "font": {
           "color": "#2a3f5f"
          },
          "hovermode": "closest",
          "hoverlabel": {
           "align": "left"
          },
          "paper_bgcolor": "white",
          "plot_bgcolor": "#E5ECF6",
          "polar": {
           "bgcolor": "#E5ECF6",
           "angularaxis": {
            "gridcolor": "white",
            "linecolor": "white",
            "ticks": ""
           },
           "radialaxis": {
            "gridcolor": "white",
            "linecolor": "white",
            "ticks": ""
           }
          },
          "ternary": {
           "bgcolor": "#E5ECF6",
           "aaxis": {
            "gridcolor": "white",
            "linecolor": "white",
            "ticks": ""
           },
           "baxis": {
            "gridcolor": "white",
            "linecolor": "white",
            "ticks": ""
           },
           "caxis": {
            "gridcolor": "white",
            "linecolor": "white",
            "ticks": ""
           }
          },
          "coloraxis": {
           "colorbar": {
            "outlinewidth": 0,
            "ticks": ""
           }
          },
          "colorscale": {
           "sequential": [
            [
             0.0,
             "#0d0887"
            ],
            [
             0.1111111111111111,
             "#46039f"
            ],
            [
             0.2222222222222222,
             "#7201a8"
            ],
            [
             0.3333333333333333,
             "#9c179e"
            ],
            [
             0.4444444444444444,
             "#bd3786"
            ],
            [
             0.5555555555555556,
             "#d8576b"
            ],
            [
             0.6666666666666666,
             "#ed7953"
            ],
            [
             0.7777777777777778,
             "#fb9f3a"
            ],
            [
             0.8888888888888888,
             "#fdca26"
            ],
            [
             1.0,
             "#f0f921"
            ]
           ],
           "sequentialminus": [
            [
             0.0,
             "#0d0887"
            ],
            [
             0.1111111111111111,
             "#46039f"
            ],
            [
             0.2222222222222222,
             "#7201a8"
            ],
            [
             0.3333333333333333,
             "#9c179e"
            ],
            [
             0.4444444444444444,
             "#bd3786"
            ],
            [
             0.5555555555555556,
             "#d8576b"
            ],
            [
             0.6666666666666666,
             "#ed7953"
            ],
            [
             0.7777777777777778,
             "#fb9f3a"
            ],
            [
             0.8888888888888888,
             "#fdca26"
            ],
            [
             1.0,
             "#f0f921"
            ]
           ],
           "diverging": [
            [
             0,
             "#8e0152"
            ],
            [
             0.1,
             "#c51b7d"
            ],
            [
             0.2,
             "#de77ae"
            ],
            [
             0.3,
             "#f1b6da"
            ],
            [
             0.4,
             "#fde0ef"
            ],
            [
             0.5,
             "#f7f7f7"
            ],
            [
             0.6,
             "#e6f5d0"
            ],
            [
             0.7,
             "#b8e186"
            ],
            [
             0.8,
             "#7fbc41"
            ],
            [
             0.9,
             "#4d9221"
            ],
            [
             1,
             "#276419"
            ]
           ]
          },
          "xaxis": {
           "gridcolor": "white",
           "linecolor": "white",
           "ticks": "",
           "title": {
            "standoff": 15
           },
           "zerolinecolor": "white",
           "automargin": true,
           "zerolinewidth": 2
          },
          "yaxis": {
           "gridcolor": "white",
           "linecolor": "white",
           "ticks": "",
           "title": {
            "standoff": 15
           },
           "zerolinecolor": "white",
           "automargin": true,
           "zerolinewidth": 2
          },
          "scene": {
           "xaxis": {
            "backgroundcolor": "#E5ECF6",
            "gridcolor": "white",
            "linecolor": "white",
            "showbackground": true,
            "ticks": "",
            "zerolinecolor": "white",
            "gridwidth": 2
           },
           "yaxis": {
            "backgroundcolor": "#E5ECF6",
            "gridcolor": "white",
            "linecolor": "white",
            "showbackground": true,
            "ticks": "",
            "zerolinecolor": "white",
            "gridwidth": 2
           },
           "zaxis": {
            "backgroundcolor": "#E5ECF6",
            "gridcolor": "white",
            "linecolor": "white",
            "showbackground": true,
            "ticks": "",
            "zerolinecolor": "white",
            "gridwidth": 2
           }
          },
          "shapedefaults": {
           "line": {
            "color": "#2a3f5f"
           }
          },
          "annotationdefaults": {
           "arrowcolor": "#2a3f5f",
           "arrowhead": 0,
           "arrowwidth": 1
          },
          "geo": {
           "bgcolor": "white",
           "landcolor": "#E5ECF6",
           "subunitcolor": "white",
           "showland": true,
           "showlakes": true,
           "lakecolor": "white"
          },
          "title": {
           "x": 0.05
          },
          "mapbox": {
           "style": "light"
          }
         }
        },
        "xaxis": {
         "anchor": "y",
         "domain": [
          0.0,
          0.16799999999999998
         ],
         "title": {
          "text": "c1"
         },
         "type": "log"
        },
        "yaxis": {
         "anchor": "x",
         "domain": [
          0.0,
          1.0
         ],
         "title": {
          "text": "Objective Value"
         }
        },
        "xaxis2": {
         "anchor": "y2",
         "domain": [
          0.208,
          0.376
         ],
         "title": {
          "text": "c2"
         },
         "type": "log"
        },
        "yaxis2": {
         "anchor": "x2",
         "domain": [
          0.0,
          1.0
         ],
         "matches": "y",
         "showticklabels": false
        },
        "xaxis3": {
         "anchor": "y3",
         "domain": [
          0.416,
          0.584
         ],
         "title": {
          "text": "epsilon"
         },
         "type": "log"
        },
        "yaxis3": {
         "anchor": "x3",
         "domain": [
          0.0,
          1.0
         ],
         "matches": "y",
         "showticklabels": false
        },
        "xaxis4": {
         "anchor": "y4",
         "domain": [
          0.624,
          0.792
         ],
         "title": {
          "text": "max_iter"
         }
        },
        "yaxis4": {
         "anchor": "x4",
         "domain": [
          0.0,
          1.0
         ],
         "matches": "y",
         "showticklabels": false
        },
        "xaxis5": {
         "anchor": "y5",
         "domain": [
          0.832,
          1.0
         ],
         "title": {
          "text": "tol"
         },
         "type": "log"
        },
        "yaxis5": {
         "anchor": "x5",
         "domain": [
          0.0,
          1.0
         ],
         "matches": "y",
         "showticklabels": false
        },
        "title": {
         "text": "Slice Plot"
        },
        "width": 1500
       },
       "config": {
        "plotlyServerURL": "https://plot.ly"
       }
      }
     },
     "metadata": {},
     "output_type": "display_data"
    }
   ],
   "execution_count": 9
  },
  {
   "metadata": {
    "ExecuteTime": {
     "end_time": "2025-06-05T12:59:09.889642Z",
     "start_time": "2025-06-05T12:59:09.883745Z"
    }
   },
   "cell_type": "code",
   "source": "",
   "id": "199a597a2ec95861",
   "outputs": [],
   "execution_count": null
  }
 ],
 "metadata": {
  "kernelspec": {
   "display_name": "Python 3",
   "language": "python",
   "name": "python3"
  },
  "language_info": {
   "codemirror_mode": {
    "name": "ipython",
    "version": 2
   },
   "file_extension": ".py",
   "mimetype": "text/x-python",
   "name": "python",
   "nbconvert_exporter": "python",
   "pygments_lexer": "ipython2",
   "version": "2.7.6"
  }
 },
 "nbformat": 4,
 "nbformat_minor": 5
}
